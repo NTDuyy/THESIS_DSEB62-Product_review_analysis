{
  "cells": [
    {
      "cell_type": "code",
      "execution_count": null,
      "metadata": {
        "colab": {
          "background_save": true,
          "base_uri": "https://localhost:8080/"
        },
        "id": "TFFePzBhuh4O",
        "outputId": "de1a840a-6e2a-45ad-ca09-306f0f3246d9"
      },
      "outputs": [
        {
          "name": "stdout",
          "output_type": "stream",
          "text": [
            "\u001b[2K     \u001b[90m━━━━━━━━━━━━━━━━━━━━━━━━━━━━━━━━━━━━━━━━\u001b[0m \u001b[32m20.9/20.9 MB\u001b[0m \u001b[31m45.4 MB/s\u001b[0m eta \u001b[36m0:00:00\u001b[0m\n",
            "\u001b[2K     \u001b[90m━━━━━━━━━━━━━━━━━━━━━━━━━━━━━━━━━━━━━━━━\u001b[0m \u001b[32m1.1/1.1 MB\u001b[0m \u001b[31m49.9 MB/s\u001b[0m eta \u001b[36m0:00:00\u001b[0m\n",
            "\u001b[2K     \u001b[90m━━━━━━━━━━━━━━━━━━━━━━━━━━━━━━━━━━━━━━━━\u001b[0m \u001b[32m657.8/657.8 kB\u001b[0m \u001b[31m36.4 MB/s\u001b[0m eta \u001b[36m0:00:00\u001b[0m\n",
            "\u001b[2K     \u001b[90m━━━━━━━━━━━━━━━━━━━━━━━━━━━━━━━━━━━━━━━━\u001b[0m \u001b[32m2.6/2.6 MB\u001b[0m \u001b[31m21.2 MB/s\u001b[0m eta \u001b[36m0:00:00\u001b[0m\n",
            "\u001b[?25h  Preparing metadata (setup.py) ... \u001b[?25l\u001b[?25hdone\n",
            "  Building wheel for vncorenlp (setup.py) ... \u001b[?25l\u001b[?25hdone\n",
            "  Preparing metadata (setup.py) ... \u001b[?25l\u001b[?25hdone\n",
            "\u001b[2K     \u001b[90m━━━━━━━━━━━━━━━━━━━━━━━━━━━━━━━━━━━━━━━━\u001b[0m \u001b[32m1.5/1.5 MB\u001b[0m \u001b[31m10.8 MB/s\u001b[0m eta \u001b[36m0:00:00\u001b[0m\n",
            "\u001b[?25h  Building wheel for py_vncorenlp (setup.py) ... \u001b[?25l\u001b[?25hdone\n",
            "\u001b[2K     \u001b[90m━━━━━━━━━━━━━━━━━━━━━━━━━━━━━━━━━━━━━━━━\u001b[0m \u001b[32m259.6/259.6 kB\u001b[0m \u001b[31m4.7 MB/s\u001b[0m eta \u001b[36m0:00:00\u001b[0m\n",
            "\u001b[?25hCollecting scikit-multilearn\n",
            "  Downloading scikit_multilearn-0.2.0-py3-none-any.whl (89 kB)\n",
            "\u001b[2K     \u001b[90m━━━━━━━━━━━━━━━━━━━━━━━━━━━━━━━━━━━━━━━━\u001b[0m \u001b[32m89.4/89.4 kB\u001b[0m \u001b[31m2.6 MB/s\u001b[0m eta \u001b[36m0:00:00\u001b[0m\n",
            "\u001b[?25hInstalling collected packages: scikit-multilearn\n",
            "Successfully installed scikit-multilearn-0.2.0\n"
          ]
        }
      ],
      "source": [
        "! pip install --quiet underthesea\n",
        "! pip install --quiet vncorenlp\n",
        "! pip install --quiet py_vncorenlp\n",
        "! pip install --quiet python-rdrsegmenter\n",
        "! pip install scikit-multilearn"
      ]
    },
    {
      "cell_type": "code",
      "execution_count": null,
      "metadata": {
        "colab": {
          "background_save": true
        },
        "id": "KRr76qRsZY7T"
      },
      "outputs": [],
      "source": [
        "import warnings\n",
        "warnings.filterwarnings(\"ignore\")"
      ]
    },
    {
      "cell_type": "code",
      "execution_count": null,
      "metadata": {
        "colab": {
          "background_save": true
        },
        "id": "uhS3Y1BK0LHE",
        "outputId": "6d70e579-884f-4461-ee61-28b9a9e54a3b"
      },
      "outputs": [
        {
          "data": {
            "application/vnd.google.colaboratory.intrinsic+json": {
              "type": "string"
            },
            "text/plain": [
              "'train = pd.read_excel(\"/content/drive/MyDrive/Thesis: Topic Modelling/Data/Splitted data/train.xlsx\")\\ntest = pd.read_excel(\"/content/drive/MyDrive/Thesis: Topic Modelling/Data/Splitted data/test.xlsx\")\\n\\ntrain, valid = train_test_split(train, test_size = 0.1, random_state = 60)\\ntrain.to_excel(\"/content/drive/MyDrive/Thesis: Topic Modelling/Data/Splitted data/train.xlsx\")\\nvalid.to_excel(\"/content/drive/MyDrive/Thesis: Topic Modelling/Data/Splitted data/valid.xlsx\")'"
            ]
          },
          "execution_count": 3,
          "metadata": {},
          "output_type": "execute_result"
        }
      ],
      "source": [
        "\"\"\"train = pd.read_excel(\"/content/drive/MyDrive/Thesis: Topic Modelling/Data/Splitted data/train.xlsx\")\n",
        "test = pd.read_excel(\"/content/drive/MyDrive/Thesis: Topic Modelling/Data/Splitted data/test.xlsx\")\n",
        "\n",
        "train, valid = train_test_split(train, test_size = 0.1, random_state = 60)\n",
        "train.to_excel(\"/content/drive/MyDrive/Thesis: Topic Modelling/Data/Splitted data/train.xlsx\")\n",
        "valid.to_excel(\"/content/drive/MyDrive/Thesis: Topic Modelling/Data/Splitted data/valid.xlsx\")\"\"\""
      ]
    },
    {
      "cell_type": "code",
      "execution_count": null,
      "metadata": {
        "colab": {
          "background_save": true
        },
        "id": "Njb23nhzvFof"
      },
      "outputs": [],
      "source": [
        "# see data preprocessing steps at link:\n",
        "# https://colab.research.google.com/drive/1AuvWD-Lo6UIjyb_fmjxGB1zLZWZQ7GFf?ouid=115125045212634117084&usp=drive_link\n",
        "from distutils.dir_util import copy_tree\n",
        "copy_tree(\"/content/drive/MyDrive/Thesis: Topic Modelling/Code/utils\", \"./utils/\")\n",
        "\n",
        "from utils.data_preprocessing_v2 import *\n",
        "import seaborn as sns\n",
        "import numpy as np\n",
        "import pandas as pd\n",
        "import re\n",
        "import string\n",
        "from underthesea import word_tokenize, text_normalize\n",
        "from gensim.models import word2vec\n",
        "import matplotlib.pyplot as plt\n",
        "from sklearn.model_selection import train_test_split\n",
        "from skmultilearn.problem_transform import BinaryRelevance\n",
        "from sklearn.linear_model import SGDClassifier\n",
        "from sklearn.pipeline import Pipeline\n",
        "from sklearn.svm import SVC\n",
        "from sklearn.feature_extraction.text import CountVectorizer, TfidfVectorizer\n",
        "from sklearn.metrics import classification_report, ConfusionMatrixDisplay, confusion_matrix\n",
        "from sklearn.multiclass import OneVsRestClassifier\n",
        "from sklearn.linear_model import LogisticRegression\n",
        "import xgboost as xgb\n",
        "from sklearn.naive_bayes import MultinomialNB\n",
        "from scipy.stats import mode\n",
        "from vncorenlp import VnCoreNLP\n",
        "from sklearn.metrics import hamming_loss\n",
        "from sklearn.multioutput import ClassifierChain\n",
        "\n",
        "\n",
        "with open(\"/content/drive/MyDrive/Thesis: Topic Modelling/Code/utils/vietnamese-stopwords.txt\") as f:\n",
        "    STOPWORDS = f.readlines()\n",
        "    STOPWORDS = [remove_all_tag(i) for i in STOPWORDS]\n",
        "\n",
        "\n",
        "def evaluate(y_true, y_pred, eval_individual = True, model_name = \"\"):\n",
        "  label_cols = [\"Quality\", \"Pack\", \"Serve\", \"Shipping\", \"Price\", \"Other\"]\n",
        "  print(f\"Classification report from {model_name}\")\n",
        "  print(classification_report(y_true[label_cols], y_pred))\n",
        "  print('Hamming Loss: ', round(hamming_loss(y_true, y_pred),3))\n",
        "  if eval_individual:\n",
        "    for i in range(len(label_cols)):\n",
        "      print(f\"classification report of {label_cols[i]}\")\n",
        "      print(classification_report(y_true[label_cols[i]], y_pred[:, i]))\n",
        "\n",
        "\n",
        "def evaluate_chain(model, X_train, y_train, X_test, y_test, predict_proba = True):\n",
        "  chains = [ClassifierChain(model, order=\"random\", random_state=i) for i in range(10)]\n",
        "  ovr = OneVsRestClassifier(model)\n",
        "  ovr.fit(X_train, y_train)\n",
        "  Y_pred_ovr = ovr.predict(X_test)\n",
        "  ovr_hamming_loss = hamming_loss(y_test, Y_pred_ovr)\n",
        "  for chain in chains:\n",
        "    chain.fit(X_train, y_train)\n",
        "  if predict_proba:\n",
        "    Y_pred_chains = np.array([chain.predict_proba(X_test) for chain in chains])\n",
        "    Y_pred_ensemble = Y_pred_chains.mean(axis=0)\n",
        "    Y_pred_ensemble = Y_pred_ensemble >= 0.5\n",
        "  else:\n",
        "    Y_pred_chains = np.array([chain.predict(X_test) for chain in chains])\n",
        "    Y_pred_ensemble = mode(Y_pred_chains, axis = 0)[0]\n",
        "  chain_hamming_loss = [\n",
        "      hamming_loss(y_test, Y_pred_chain >= 0.5)\n",
        "      for Y_pred_chain in Y_pred_chains\n",
        "  ]\n",
        "  ensemble_hamming_loss = hamming_loss(y_test, Y_pred_ensemble)\n",
        "  scores = [ovr_hamming_loss] + chain_hamming_loss + [ensemble_hamming_loss]\n",
        "  evaluate(y_test, Y_pred_ovr, eval_individual = False, model_name = \"One Vs Rest model\")\n",
        "  evaluate(y_test, Y_pred_ensemble, eval_individual = False, model_name = \"Ensemble model from classifier chain\")\n",
        "  return scores\n",
        "\n",
        "def train_ovr(base_model, X_train, y_train):\n",
        "  ovr = OneVsRestClassifier(base_model)\n",
        "  ovr.fit(X_train, y_train)\n",
        "  return ovr\n",
        "\n",
        "def displayConfusionMatrix(y_true, y_pred, label = \"Dataset\"):\n",
        "    disp = ConfusionMatrixDisplay.from_predictions(\n",
        "        y_true,\n",
        "        y_pred, #np.argmax(y_pred, axis=1),\n",
        "        display_labels=[\"0\",\"1\"],\n",
        "        cmap=plt.cm.Blues\n",
        "    )\n",
        "    tn, fp, fn, tp = confusion_matrix(y_true, y_pred).ravel()\n",
        "    f1_score = tp / (tp+((fn+fp)/2))\n",
        "    disp.ax_.set_title(\"Confusion Matrix on \" + f\" {label} -- F1 Score: \" + str(f1_score.round(2)))"
      ]
    },
    {
      "cell_type": "code",
      "execution_count": null,
      "metadata": {
        "colab": {
          "background_save": true
        },
        "id": "dtMgY3LpEgkW",
        "outputId": "79a39668-7d48-4670-d3fe-34651f752c20"
      },
      "outputs": [
        {
          "name": "stdout",
          "output_type": "stream",
          "text": [
            "(12240, 11)\n",
            "(3401, 10)\n",
            "(1361, 11)\n"
          ]
        }
      ],
      "source": [
        "train = pd.read_excel(\"/content/drive/MyDrive/Thesis: Topic Modelling/Data/Splitted data/train.xlsx\")\n",
        "test = pd.read_excel(\"/content/drive/MyDrive/Thesis: Topic Modelling/Data/Splitted data/test.xlsx\")\n",
        "valid = pd.read_excel(\"/content/drive/MyDrive/Thesis: Topic Modelling/Data/Splitted data/valid.xlsx\")\n",
        "\n",
        "for i in [train,test, valid]:\n",
        "  print(i.shape)"
      ]
    },
    {
      "cell_type": "code",
      "execution_count": null,
      "metadata": {
        "id": "mc8SCKmI1t2P"
      },
      "outputs": [],
      "source": [
        "labels_cols = [\"Quality\", \"Pack\", \"Serve\", \"Shipping\", \"Price\", \"Other\"]\n",
        "train = pd.read_excel(\"/content/drive/MyDrive/Thesis: Topic Modelling/Data/Splitted data/train.xlsx\")\n",
        "train[\"comment\"] = train[\"comment\"].astype(str)\n",
        "train[\"clean_comment\"] = train[\"comment\"].apply(lambda x: cleaning(x))\n",
        "X_train = train[\"clean_comment\"]\n",
        "y_train = train[labels_cols]\n",
        "\n",
        "test = pd.read_excel(\"/content/drive/MyDrive/Thesis: Topic Modelling/Data/Splitted data/test.xlsx\")\n",
        "test[\"comment\"] = test[\"comment\"].astype(str)\n",
        "test[\"clean_comment\"] = test[\"comment\"].apply(lambda x: cleaning(x))\n",
        "X_test = test[\"clean_comment\"]\n",
        "y_test = test[labels_cols]\n",
        "\n",
        "valid = pd.read_excel(\"/content/drive/MyDrive/Thesis: Topic Modelling/Data/Splitted data/test.xlsx\")\n",
        "valid[\"comment\"] = valid[\"comment\"].astype(str)\n",
        "valid[\"clean_comment\"] = valid[\"comment\"].apply(lambda x: cleaning(x))\n",
        "X_valid = valid[\"clean_comment\"]\n",
        "y_valid = valid[labels_cols]"
      ]
    },
    {
      "cell_type": "code",
      "execution_count": null,
      "metadata": {
        "colab": {
          "base_uri": "https://localhost:8080/"
        },
        "id": "4PAtDvl4IYCR",
        "outputId": "5e55c30b-2bf6-4866-e208-60faaf1c7e7b"
      },
      "outputs": [
        {
          "name": "stdout",
          "output_type": "stream",
          "text": [
            "{'tfidf__max_df': 0.75, 'tfidf__min_df': 4, 'tfidf__ngram_range': (1, 1), 'tfidf__smooth_idf': True, 'tfidf__stop_words': ['a lô ', 'a ha ', 'ai ', 'ai ai ', 'ai nấy ', 'ai đó ', 'alô ', 'amen ', 'anh ', 'anh ấy ', 'ba ', 'ba ba ', 'ba bản ', 'ba cùng ', 'ba họ ', 'ba ngày ', 'ba ngôi ', 'ba tăng ', 'bao giờ ', 'bao lâu ', 'bao nhiêu ', 'bao nả ', 'bay biến ', 'biết ', 'biết bao ', 'biết bao nhiêu ', 'biết chắc ', 'biết chừng nào ', 'biết mình ', 'biết mấy ', 'biết thế ', 'biết trước ', 'biết việc ', 'biết đâu ', 'biết đâu chừng ', 'biết đâu đấy ', 'biết được ', 'buổi ', 'buổi làm ', 'buổi mới ', 'buổi ngày ', 'buổi sớm ', 'bà ', 'bà ấy ', 'bài ', 'bài bác ', 'bài bỏ ', 'bài cái ', 'bác ', 'bán ', 'bán cấp ', 'bán dạ ', 'bán thế ', 'bây bẩy ', 'bây chừ ', 'bây giờ ', 'bây nhiêu ', 'bèn ', 'béng ', 'bên ', 'bên bị ', 'bên có ', 'bên cạnh ', 'bông ', 'bước ', 'bước khỏi ', 'bước tới ', 'bước đi ', 'bạn ', 'bản ', 'bản bộ ', 'bản riêng ', 'bản thân ', 'bản ý ', 'bất chợt ', 'bất cứ ', 'bất giác ', 'bất kì ', 'bất kể ', 'bất kỳ ', 'bất luận ', 'bất ngờ ', 'bất nhược ', 'bất quá ', 'bất quá chỉ ', 'bất thình lình ', 'bất tử ', 'bất đồ ', 'bấy ', 'bấy chầy ', 'bấy chừ ', 'bấy giờ ', 'bấy lâu ', 'bấy lâu nay ', 'bấy nay ', 'bấy nhiêu ', 'bập bà bập bõm ', 'bập bõm ', 'bắt đầu ', 'bắt đầu từ ', 'bằng ', 'bằng cứ ', 'bằng không ', 'bằng người ', 'bằng nhau ', 'bằng như ', 'bằng nào ', 'bằng nấy ', 'bằng vào ', 'bằng được ', 'bằng ấy ', 'bển ', 'bệt ', 'bị ', 'bị chú ', 'bị vì ', 'bỏ ', 'bỏ bà ', 'bỏ cha ', 'bỏ cuộc ', 'bỏ không ', 'bỏ lại ', 'bỏ mình ', 'bỏ mất ', 'bỏ mẹ ', 'bỏ nhỏ ', 'bỏ quá ', 'bỏ ra ', 'bỏ riêng ', 'bỏ việc ', 'bỏ xa ', 'bỗng ', 'bỗng chốc ', 'bỗng dưng ', 'bỗng không ', 'bỗng nhiên ', 'bỗng nhưng ', 'bỗng thấy ', 'bỗng đâu ', 'bộ ', 'bộ thuộc ', 'bộ điều ', 'bội phần ', 'bớ ', 'bởi ', 'bởi ai ', 'bởi chưng ', 'bởi nhưng ', 'bởi sao ', 'bởi thế ', 'bởi thế cho nên ', 'bởi tại ', 'bởi vì ', 'bởi vậy ', 'bởi đâu ', 'bức ', 'cao ', 'cao lâu ', 'cao ráo ', 'cao răng ', 'cao sang ', 'cao số ', 'cao thấp ', 'cao thế ', 'cao xa ', 'cha ', 'cha chả ', 'chao ôi ', 'chia sẻ ', 'chiếc ', 'cho ', 'cho biết ', 'cho chắc ', 'cho hay ', 'cho nhau ', 'cho nên ', 'cho rằng ', 'cho rồi ', 'cho thấy ', 'cho tin ', 'cho tới ', 'cho tới khi ', 'cho về ', 'cho ăn ', 'cho đang ', 'cho được ', 'cho đến ', 'cho đến khi ', 'cho đến nỗi ', 'choa ', 'chu cha ', 'chui cha ', 'chung ', 'chung cho ', 'chung chung ', 'chung cuộc ', 'chung cục ', 'chung nhau ', 'chung qui ', 'chung quy ', 'chung quy lại ', 'chung ái ', 'chuyển ', 'chuyển tự ', 'chuyển đạt ', 'chuyện ', 'chuẩn bị ', 'chành chạnh ', 'chí chết ', 'chính ', 'chính bản ', 'chính giữa ', 'chính là ', 'chính thị ', 'chính điểm ', 'chùn chùn ', 'chùn chũn ', 'chú ', 'chú dẫn ', 'chú khách ', 'chú mày ', 'chú mình ', 'chúng ', 'chúng mình ', 'chúng ta ', 'chúng tôi ', 'chúng ông ', 'chăn chắn ', 'chăng ', 'chăng chắc ', 'chăng nữa ', 'chơi ', 'chơi họ ', 'chưa ', 'chưa bao giờ ', 'chưa chắc ', 'chưa có ', 'chưa cần ', 'chưa dùng ', 'chưa dễ ', 'chưa kể ', 'chưa tính ', 'chưa từng ', 'chầm chập ', 'chậc ', 'chắc ', 'chắc chắn ', 'chắc dạ ', 'chắc hẳn ', 'chắc lòng ', 'chắc người ', 'chắc vào ', 'chắc ăn ', 'chẳng lẽ ', 'chẳng những ', 'chẳng nữa ', 'chẳng phải ', 'chết nỗi ', 'chết thật ', 'chết tiệt ', 'chỉ ', 'chỉ chính ', 'chỉ có ', 'chỉ là ', 'chỉ tên ', 'chỉn ', 'chị ', 'chị bộ ', 'chị ấy ', 'chịu ', 'chịu chưa ', 'chịu lời ', 'chịu tốt ', 'chịu ăn ', 'chọn ', 'chọn bên ', 'chọn ra ', 'chốc chốc ', 'chớ ', 'chớ chi ', 'chớ gì ', 'chớ không ', 'chớ kể ', 'chớ như ', 'chợt ', 'chợt nghe ', 'chợt nhìn ', 'chủn ', 'chứ ', 'chứ ai ', 'chứ còn ', 'chứ gì ', 'chứ không ', 'chứ không phải ', 'chứ lại ', 'chứ lị ', 'chứ như ', 'chứ sao ', 'coi bộ ', 'coi mòi ', 'con ', 'con con ', 'con dạ ', 'con nhà ', 'con tính ', 'cu cậu ', 'cuối ', 'cuối cùng ', 'cuối điểm ', 'cuốn ', 'cuộc ', 'càng ', 'càng càng ', 'càng hay ', 'cá nhân ', 'các ', 'các cậu ', 'cách ', 'cách bức ', 'cách không ', 'cách nhau ', 'cách đều ', 'cái ', 'cái gì ', 'cái họ ', 'cái đã ', 'cái đó ', 'cái ấy ', 'câu hỏi ', 'cây ', 'cây nước ', 'còn ', 'còn như ', 'còn nữa ', 'còn thời gian ', 'còn về ', 'có ', 'có ai ', 'có chuyện ', 'có chăng ', 'có chăng là ', 'có chứ ', 'có cơ ', 'có dễ ', 'có họ ', 'có khi ', 'có ngày ', 'có người ', 'có nhiều ', 'có nhà ', 'có phải ', 'có số ', 'có tháng ', 'có thế ', 'có thể ', 'có vẻ ', 'có ý ', 'có ăn ', 'có điều ', 'có điều kiện ', 'có đáng ', 'có đâu ', 'có được ', 'cóc khô ', 'cô ', 'cô mình ', 'cô quả ', 'cô tăng ', 'cô ấy ', 'công nhiên ', 'cùng ', 'cùng chung ', 'cùng cực ', 'cùng nhau ', 'cùng tuổi ', 'cùng tột ', 'cùng với ', 'cùng ăn ', 'căn ', 'căn cái ', 'căn cắt ', 'căn tính ', 'cũng ', 'cũng như ', 'cũng nên ', 'cũng thế ', 'cũng vậy ', 'cũng vậy thôi ', 'cũng được ', 'cơ ', 'cơ chỉ ', 'cơ chừng ', 'cơ cùng ', 'cơ dẫn ', 'cơ hồ ', 'cơ hội ', 'cơ mà ', 'cơn ', 'cả ', 'cả nghe ', 'cả nghĩ ', 'cả ngày ', 'cả người ', 'cả nhà ', 'cả năm ', 'cả thảy ', 'cả thể ', 'cả tin ', 'cả ăn ', 'cả đến ', 'cảm thấy ', 'cảm ơn ', 'cấp ', 'cấp số ', 'cấp trực tiếp ', 'cần ', 'cần cấp ', 'cần gì ', 'cần số ', 'cật lực ', 'cật sức ', 'cậu ', 'cổ lai ', 'cụ thể ', 'cụ thể là ', 'cụ thể như ', 'của ', 'của ngọt ', 'của tin ', 'cứ ', 'cứ như ', 'cứ việc ', 'cứ điểm ', 'cực lực ', 'do ', 'do vì ', 'do vậy ', 'do đó ', 'duy ', 'duy chỉ ', 'duy có ', 'dài ', 'dài lời ', 'dài ra ', 'dành ', 'dành dành ', 'dào ', 'dì ', 'dù ', 'dù cho ', 'dù dì ', 'dù gì ', 'dù rằng ', 'dù sao ', 'dùng ', 'dùng cho ', 'dùng hết ', 'dùng làm ', 'dùng đến ', 'dưới ', 'dưới nước ', 'dạ ', 'dạ bán ', 'dạ con ', 'dạ dài ', 'dạ dạ ', 'dạ khách ', 'dần dà ', 'dần dần ', 'dầu sao ', 'dẫn ', 'dẫu ', 'dẫu mà ', 'dẫu rằng ', 'dẫu sao ', 'dễ ', 'dễ dùng ', 'dễ gì ', 'dễ khiến ', 'dễ nghe ', 'dễ ngươi ', 'dễ như chơi ', 'dễ sợ ', 'dễ sử dụng ', 'dễ thường ', 'dễ thấy ', 'dễ ăn ', 'dễ đâu ', 'dở chừng ', 'dữ ', 'dữ cách ', 'em ', 'em em ', 'giá trị ', 'giá trị thực tế ', 'giảm ', 'giảm chính ', 'giảm thấp ', 'giảm thế ', 'giống ', 'giống người ', 'giống nhau ', 'giống như ', 'giờ ', 'giờ lâu ', 'giờ này ', 'giờ đi ', 'giờ đây ', 'giờ đến ', 'giữ ', 'giữ lấy ', 'giữ ý ', 'giữa ', 'giữa lúc ', 'gây ', 'gây cho ', 'gây giống ', 'gây ra ', 'gây thêm ', 'gì ', 'gì gì ', 'gì đó ', 'gần ', 'gần bên ', 'gần hết ', 'gần ngày ', 'gần như ', 'gần xa ', 'gần đây ', 'gần đến ', 'gặp ', 'gặp khó khăn ', 'gặp phải ', 'gồm ', 'hay ', 'hay biết ', 'hay hay ', 'hay không ', 'hay là ', 'hay làm ', 'hay nhỉ ', 'hay nói ', 'hay sao ', 'hay tin ', 'hay đâu ', 'hiểu ', 'hiện nay ', 'hiện tại ', 'hoàn toàn ', 'hoặc ', 'hoặc là ', 'hãy ', 'hãy còn ', 'hơn ', 'hơn cả ', 'hơn hết ', 'hơn là ', 'hơn nữa ', 'hơn trước ', 'hầu hết ', 'hết ', 'hết chuyện ', 'hết cả ', 'hết của ', 'hết nói ', 'hết ráo ', 'hết rồi ', 'hết ý ', 'họ ', 'họ gần ', 'họ xa ', 'hỏi ', 'hỏi lại ', 'hỏi xem ', 'hỏi xin ', 'hỗ trợ ', 'khi ', 'khi khác ', 'khi không ', 'khi nào ', 'khi nên ', 'khi trước ', 'khiến ', 'khoảng ', 'khoảng cách ', 'khoảng không ', 'khá ', 'khá tốt ', 'khác ', 'khác gì ', 'khác khác ', 'khác nhau ', 'khác nào ', 'khác thường ', 'khác xa ', 'khách ', 'khó ', 'khó biết ', 'khó chơi ', 'khó khăn ', 'khó làm ', 'khó mở ', 'khó nghe ', 'khó nghĩ ', 'khó nói ', 'khó thấy ', 'khó tránh ', 'không ', 'không ai ', 'không bao giờ ', 'không bao lâu ', 'không biết ', 'không bán ', 'không chỉ ', 'không còn ', 'không có ', 'không có gì ', 'không cùng ', 'không cần ', 'không cứ ', 'không dùng ', 'không gì ', 'không hay ', 'không khỏi ', 'không kể ', 'không ngoài ', 'không nhận ', 'không những ', 'không phải ', 'không phải không ', 'không thể ', 'không tính ', 'không điều kiện ', 'không được ', 'không đầy ', 'không để ', 'khẳng định ', 'khỏi ', 'khỏi nói ', 'kể ', 'kể cả ', 'kể như ', 'kể tới ', 'kể từ ', 'liên quan ', 'loại ', 'loại từ ', 'luôn ', 'luôn cả ', 'luôn luôn ', 'luôn tay ', 'là ', 'là cùng ', 'là là ', 'là nhiều ', 'là phải ', 'là thế nào ', 'là vì ', 'là ít ', 'làm ', 'làm bằng ', 'làm cho ', 'làm dần dần ', 'làm gì ', 'làm lòng ', 'làm lại ', 'làm lấy ', 'làm mất ', 'làm ngay ', 'làm như ', 'làm nên ', 'làm ra ', 'làm riêng ', 'làm sao ', 'làm theo ', 'làm thế nào ', 'làm tin ', 'làm tôi ', 'làm tăng ', 'làm tại ', 'làm tắp lự ', 'làm vì ', 'làm đúng ', 'làm được ', 'lâu ', 'lâu các ', 'lâu lâu ', 'lâu nay ', 'lâu ngày ', 'lên ', 'lên cao ', 'lên cơn ', 'lên mạnh ', 'lên ngôi ', 'lên nước ', 'lên số ', 'lên xuống ', 'lên đến ', 'lòng ', 'lòng không ', 'lúc ', 'lúc khác ', 'lúc lâu ', 'lúc nào ', 'lúc này ', 'lúc sáng ', 'lúc trước ', 'lúc đi ', 'lúc đó ', 'lúc đến ', 'lúc ấy ', 'lý do ', 'lượng ', 'lượng cả ', 'lượng số ', 'lượng từ ', 'lại ', 'lại bộ ', 'lại cái ', 'lại còn ', 'lại giống ', 'lại làm ', 'lại người ', 'lại nói ', 'lại nữa ', 'lại quả ', 'lại thôi ', 'lại ăn ', 'lại đây ', 'lấy ', 'lấy có ', 'lấy cả ', 'lấy giống ', 'lấy làm ', 'lấy lý do ', 'lấy lại ', 'lấy ra ', 'lấy ráo ', 'lấy sau ', 'lấy số ', 'lấy thêm ', 'lấy thế ', 'lấy vào ', 'lấy xuống ', 'lấy được ', 'lấy để ', 'lần ', 'lần khác ', 'lần lần ', 'lần nào ', 'lần này ', 'lần sang ', 'lần sau ', 'lần theo ', 'lần trước ', 'lần tìm ', 'lớn ', 'lớn lên ', 'lớn nhỏ ', 'lời ', 'lời chú ', 'lời nói ', 'mang ', 'mang lại ', 'mang mang ', 'mang nặng ', 'mang về ', 'muốn ', 'mà ', 'mà cả ', 'mà không ', 'mà lại ', 'mà thôi ', 'mà vẫn ', 'mình ', 'mạnh ', 'mất ', 'mất còn ', 'mọi ', 'mọi giờ ', 'mọi khi ', 'mọi lúc ', 'mọi người ', 'mọi nơi ', 'mọi sự ', 'mọi thứ ', 'mọi việc ', 'mối ', 'mỗi ', 'mỗi lúc ', 'mỗi lần ', 'mỗi một ', 'mỗi ngày ', 'mỗi người ', 'một ', 'một cách ', 'một cơn ', 'một khi ', 'một lúc ', 'một số ', 'một vài ', 'một ít ', 'mới ', 'mới hay ', 'mới rồi ', 'mới đây ', 'mở ', 'mở mang ', 'mở nước ', 'mở ra ', 'mợ ', 'mức ', 'nay ', 'ngay ', 'ngay bây giờ ', 'ngay cả ', 'ngay khi ', 'ngay khi đến ', 'ngay lúc ', 'ngay lúc này ', 'ngay lập tức ', 'ngay thật ', 'ngay tức khắc ', 'ngay tức thì ', 'ngay từ ', 'nghe ', 'nghe chừng ', 'nghe hiểu ', 'nghe không ', 'nghe lại ', 'nghe nhìn ', 'nghe như ', 'nghe nói ', 'nghe ra ', 'nghe rõ ', 'nghe thấy ', 'nghe tin ', 'nghe trực tiếp ', 'nghe đâu ', 'nghe đâu như ', 'nghe được ', 'nghen ', 'nghiễm nhiên ', 'nghĩ ', 'nghĩ lại ', 'nghĩ ra ', 'nghĩ tới ', 'nghĩ xa ', 'nghĩ đến ', 'nghỉm ', 'ngoài ', 'ngoài này ', 'ngoài ra ', 'ngoài xa ', 'ngoải ', 'nguồn ', 'ngày ', 'ngày càng ', 'ngày cấp ', 'ngày giờ ', 'ngày ngày ', 'ngày nào ', 'ngày này ', 'ngày nọ ', 'ngày qua ', 'ngày rày ', 'ngày tháng ', 'ngày xưa ', 'ngày xửa ', 'ngày đến ', 'ngày ấy ', 'ngôi ', 'ngôi nhà ', 'ngôi thứ ', 'ngõ hầu ', 'ngăn ngắt ', 'ngươi ', 'người ', 'người hỏi ', 'người khác ', 'người khách ', 'người mình ', 'người nghe ', 'người người ', 'người nhận ', 'ngọn ', 'ngọn nguồn ', 'ngọt ', 'ngồi ', 'ngồi bệt ', 'ngồi không ', 'ngồi sau ', 'ngồi trệt ', 'ngộ nhỡ ', 'nhanh ', 'nhanh lên ', 'nhanh tay ', 'nhau ', 'nhiên hậu ', 'nhiều ', 'nhiều ít ', 'nhiệt liệt ', 'nhung nhăng ', 'nhà ', 'nhà chung ', 'nhà khó ', 'nhà làm ', 'nhà ngoài ', 'nhà ngươi ', 'nhà tôi ', 'nhà việc ', 'nhân dịp ', 'nhân tiện ', 'nhé ', 'nhìn ', 'nhìn chung ', 'nhìn lại ', 'nhìn nhận ', 'nhìn theo ', 'nhìn thấy ', 'nhìn xuống ', 'nhóm ', 'nhón nhén ', 'như ', 'như ai ', 'như chơi ', 'như không ', 'như là ', 'như nhau ', 'như quả ', 'như sau ', 'như thường ', 'như thế ', 'như thế nào ', 'như thể ', 'như trên ', 'như trước ', 'như tuồng ', 'như vậy ', 'như ý ', 'nhưng ', 'nhưng mà ', 'nhược bằng ', 'nhất ', 'nhất loạt ', 'nhất luật ', 'nhất là ', 'nhất mực ', 'nhất nhất ', 'nhất quyết ', 'nhất sinh ', 'nhất thiết ', 'nhất thì ', 'nhất tâm ', 'nhất tề ', 'nhất đán ', 'nhất định ', 'nhận ', 'nhận biết ', 'nhận họ ', 'nhận làm ', 'nhận nhau ', 'nhận ra ', 'nhận thấy ', 'nhận việc ', 'nhận được ', 'nhằm ', 'nhằm khi ', 'nhằm lúc ', 'nhằm vào ', 'nhằm để ', 'nhỉ ', 'nhỏ ', 'nhỏ người ', 'nhớ ', 'nhớ bập bõm ', 'nhớ lại ', 'nhớ lấy ', 'nhớ ra ', 'nhờ ', 'nhờ chuyển ', 'nhờ có ', 'nhờ nhờ ', 'nhờ đó ', 'nhỡ ra ', 'những ', 'những ai ', 'những khi ', 'những là ', 'những lúc ', 'những muốn ', 'những như ', 'nào ', 'nào cũng ', 'nào hay ', 'nào là ', 'nào phải ', 'nào đâu ', 'nào đó ', 'này ', 'này nọ ', 'nên ', 'nên chi ', 'nên chăng ', 'nên làm ', 'nên người ', 'nên tránh ', 'nó ', 'nóc ', 'nói ', 'nói bông ', 'nói chung ', 'nói khó ', 'nói là ', 'nói lên ', 'nói lại ', 'nói nhỏ ', 'nói phải ', 'nói qua ', 'nói ra ', 'nói riêng ', 'nói rõ ', 'nói thêm ', 'nói thật ', 'nói toẹt ', 'nói trước ', 'nói tốt ', 'nói với ', 'nói xa ', 'nói ý ', 'nói đến ', 'nói đủ ', 'năm ', 'năm tháng ', 'nơi ', 'nơi nơi ', 'nước ', 'nước bài ', 'nước cùng ', 'nước lên ', 'nước nặng ', 'nước quả ', 'nước xuống ', 'nước ăn ', 'nước đến ', 'nấy ', 'nặng ', 'nặng căn ', 'nặng mình ', 'nặng về ', 'nếu ', 'nếu có ', 'nếu cần ', 'nếu không ', 'nếu mà ', 'nếu như ', 'nếu thế ', 'nếu vậy ', 'nếu được ', 'nền ', 'nọ ', 'nớ ', 'nức nở ', 'nữa ', 'nữa khi ', 'nữa là ', 'nữa rồi ', 'oai oái ', 'oái ', 'pho ', 'phè ', 'phè phè ', 'phía ', 'phía bên ', 'phía bạn ', 'phía dưới ', 'phía sau ', 'phía trong ', 'phía trên ', 'phía trước ', 'phóc ', 'phót ', 'phù hợp ', 'phăn phắt ', 'phương chi ', 'phải ', 'phải biết ', 'phải chi ', 'phải chăng ', 'phải cách ', 'phải cái ', 'phải giờ ', 'phải khi ', 'phải không ', 'phải lại ', 'phải lời ', 'phải người ', 'phải như ', 'phải rồi ', 'phải tay ', 'phần ', 'phần lớn ', 'phần nhiều ', 'phần nào ', 'phần sau ', 'phần việc ', 'phắt ', 'phỉ phui ', 'phỏng ', 'phỏng như ', 'phỏng nước ', 'phỏng theo ', 'phỏng tính ', 'phốc ', 'phụt ', 'phứt ', 'qua ', 'qua chuyện ', 'qua khỏi ', 'qua lại ', 'qua lần ', 'qua ngày ', 'qua tay ', 'qua thì ', 'qua đi ', 'quan trọng ', 'quan trọng vấn đề ', 'quan tâm ', 'quay ', 'quay bước ', 'quay lại ', 'quay số ', 'quay đi ', 'quá ', 'quá bán ', 'quá bộ ', 'quá giờ ', 'quá lời ', 'quá mức ', 'quá nhiều ', 'quá tay ', 'quá thì ', 'quá tin ', 'quá trình ', 'quá tuổi ', 'quá đáng ', 'quá ư ', 'quả ', 'quả là ', 'quả thật ', 'quả thế ', 'quả vậy ', 'quận ', 'ra ', 'ra bài ', 'ra bộ ', 'ra chơi ', 'ra gì ', 'ra lại ', 'ra lời ', 'ra ngôi ', 'ra người ', 'ra sao ', 'ra tay ', 'ra vào ', 'ra ý ', 'ra điều ', 'ra đây ', 'ren rén ', 'riu ríu ', 'riêng ', 'riêng từng ', 'riệt ', 'rày ', 'ráo ', 'ráo cả ', 'ráo nước ', 'ráo trọi ', 'rén ', 'rén bước ', 'rích ', 'rón rén ', 'rõ ', 'rõ là ', 'rõ thật ', 'rút cục ', 'răng ', 'răng răng ', 'rất ', 'rất lâu ', 'rằng ', 'rằng là ', 'rốt cuộc ', 'rốt cục ', 'rồi ', 'rồi nữa ', 'rồi ra ', 'rồi sao ', 'rồi sau ', 'rồi tay ', 'rồi thì ', 'rồi xem ', 'rồi đây ', 'rứa ', 'sa sả ', 'sang ', 'sang năm ', 'sang sáng ', 'sang tay ', 'sao ', 'sao bản ', 'sao bằng ', 'sao cho ', 'sao vậy ', 'sao đang ', 'sau ', 'sau chót ', 'sau cuối ', 'sau cùng ', 'sau hết ', 'sau này ', 'sau nữa ', 'sau sau ', 'sau đây ', 'sau đó ', 'so ', 'so với ', 'song le ', 'suýt ', 'suýt nữa ', 'sáng ', 'sáng ngày ', 'sáng rõ ', 'sáng thế ', 'sáng ý ', 'sì ', 'sì sì ', 'sất ', 'sắp ', 'sắp đặt ', 'sẽ ', 'sẽ biết ', 'sẽ hay ', 'số ', 'số cho biết ', 'số cụ thể ', 'số loại ', 'số là ', 'số người ', 'số phần ', 'số thiếu ', 'sốt sột ', 'sớm ', 'sớm ngày ', 'sở dĩ ', 'sử dụng ', 'sự ', 'sự thế ', 'sự việc ', 'tanh ', 'tanh tanh ', 'tay ', 'tay quay ', 'tha hồ ', 'tha hồ chơi ', 'tha hồ ăn ', 'than ôi ', 'thanh ', 'thanh ba ', 'thanh chuyển ', 'thanh không ', 'thanh thanh ', 'thanh tính ', 'thanh điều kiện ', 'thanh điểm ', 'thay đổi ', 'thay đổi tình trạng ', 'theo ', 'theo bước ', 'theo như ', 'theo tin ', 'thi thoảng ', 'thiếu ', 'thiếu gì ', 'thiếu điểm ', 'thoạt ', 'thoạt nghe ', 'thoạt nhiên ', 'thoắt ', 'thuần ', 'thuần ái ', 'thuộc ', 'thuộc bài ', 'thuộc cách ', 'thuộc lại ', 'thuộc từ ', 'thà ', 'thà là ', 'thà rằng ', 'thành ra ', 'thành thử ', 'thái quá ', 'tháng ', 'tháng ngày ', 'tháng năm ', 'tháng tháng ', 'thêm ', 'thêm chuyện ', 'thêm giờ ', 'thêm vào ', 'thì ', 'thì giờ ', 'thì là ', 'thì phải ', 'thì ra ', 'thì thôi ', 'thình lình ', 'thích ', 'thích cứ ', 'thích thuộc ', 'thích tự ', 'thích ý ', 'thím ', 'thôi ', 'thôi việc ', 'thúng thắng ', 'thương ôi ', 'thường ', 'thường bị ', 'thường hay ', 'thường khi ', 'thường số ', 'thường sự ', 'thường thôi ', 'thường thường ', 'thường tính ', 'thường tại ', 'thường xuất hiện ', 'thường đến ', 'thảo hèn ', 'thảo nào ', 'thấp ', 'thấp cơ ', 'thấp thỏm ', 'thấp xuống ', 'thấy ', 'thấy tháng ', 'thẩy ', 'thậm ', 'thậm chí ', 'thậm cấp ', 'thậm từ ', 'thật ', 'thật chắc ', 'thật là ', 'thật lực ', 'thật quả ', 'thật ra ', 'thật sự ', 'thật thà ', 'thật tốt ', 'thật vậy ', 'thế ', 'thế chuẩn bị ', 'thế là ', 'thế lại ', 'thế mà ', 'thế nào ', 'thế nên ', 'thế ra ', 'thế sự ', 'thế thì ', 'thế thôi ', 'thế thường ', 'thế thế ', 'thế à ', 'thế đó ', 'thếch ', 'thỉnh thoảng ', 'thỏm ', 'thốc ', 'thốc tháo ', 'thốt ', 'thốt nhiên ', 'thốt nói ', 'thốt thôi ', 'thộc ', 'thời gian ', 'thời gian sử dụng ', 'thời gian tính ', 'thời điểm ', 'thục mạng ', 'thứ ', 'thứ bản ', 'thứ đến ', 'thửa ', 'thực hiện ', 'thực hiện đúng ', 'thực ra ', 'thực sự ', 'thực tế ', 'thực vậy ', 'tin ', 'tin thêm ', 'tin vào ', 'tiếp theo ', 'tiếp tục ', 'tiếp đó ', 'tiện thể ', 'toà ', 'toé khói ', 'toẹt ', 'trong ', 'trong khi ', 'trong lúc ', 'trong mình ', 'trong ngoài ', 'trong này ', 'trong số ', 'trong vùng ', 'trong đó ', 'trong ấy ', 'tránh ', 'tránh khỏi ', 'tránh ra ', 'tránh tình trạng ', 'tránh xa ', 'trên ', 'trên bộ ', 'trên dưới ', 'trước ', 'trước hết ', 'trước khi ', 'trước kia ', 'trước nay ', 'trước ngày ', 'trước nhất ', 'trước sau ', 'trước tiên ', 'trước tuổi ', 'trước đây ', 'trước đó ', 'trả ', 'trả của ', 'trả lại ', 'trả ngay ', 'trả trước ', 'trếu tráo ', 'trển ', 'trệt ', 'trệu trạo ', 'trỏng ', 'trời đất ơi ', 'trở thành ', 'trừ phi ', 'trực tiếp ', 'trực tiếp làm ', 'tuy ', 'tuy có ', 'tuy là ', 'tuy nhiên ', 'tuy rằng ', 'tuy thế ', 'tuy vậy ', 'tuy đã ', 'tuyệt nhiên ', 'tuần tự ', 'tuốt luốt ', 'tuốt tuồn tuột ', 'tuốt tuột ', 'tuổi ', 'tuổi cả ', 'tuổi tôi ', 'tà tà ', 'tên ', 'tên chính ', 'tên cái ', 'tên họ ', 'tên tự ', 'tênh ', 'tênh tênh ', 'tìm ', 'tìm bạn ', 'tìm cách ', 'tìm hiểu ', 'tìm ra ', 'tìm việc ', 'tình trạng ', 'tính ', 'tính cách ', 'tính căn ', 'tính người ', 'tính phỏng ', 'tính từ ', 'tít mù ', 'tò te ', 'tôi ', 'tôi con ', 'tông tốc ', 'tù tì ', 'tăm tắp ', 'tăng ', 'tăng chúng ', 'tăng cấp ', 'tăng giảm ', 'tăng thêm ', 'tăng thế ', 'tại ', 'tại lòng ', 'tại nơi ', 'tại sao ', 'tại tôi ', 'tại vì ', 'tại đâu ', 'tại đây ', 'tại đó ', 'tạo ', 'tạo cơ hội ', 'tạo nên ', 'tạo ra ', 'tạo ý ', 'tạo điều kiện ', 'tấm ', 'tấm bản ', 'tấm các ', 'tấn ', 'tấn tới ', 'tất cả ', 'tất cả bao nhiêu ', 'tất thảy ', 'tất tần tật ', 'tất tật ', 'tập trung ', 'tắp ', 'tắp lự ', 'tắp tắp ', 'tọt ', 'tỏ ra ', 'tỏ vẻ ', 'tốc tả ', 'tối ư ', 'tốt ', 'tốt bạn ', 'tốt bộ ', 'tốt hơn ', 'tốt mối ', 'tốt ngày ', 'tột ', 'tột cùng ', 'tớ ', 'tới ', 'tới gần ', 'tới mức ', 'tới nơi ', 'tới thì ', 'tức thì ', 'tức tốc ', 'từ ', 'từ căn ', 'từ giờ ', 'từ khi ', 'từ loại ', 'từ nay ', 'từ thế ', 'từ tính ', 'từ tại ', 'từ từ ', 'từ ái ', 'từ điều ', 'từ đó ', 'từ ấy ', 'từng ', 'từng cái ', 'từng giờ ', 'từng nhà ', 'từng phần ', 'từng thời gian ', 'từng đơn vị ', 'từng ấy ', 'tự ', 'tự cao ', 'tự khi ', 'tự lượng ', 'tự tính ', 'tự tạo ', 'tự vì ', 'tự ý ', 'tự ăn ', 'tựu trung ', 'veo ', 'veo veo ', 'việc ', 'việc gì ', 'vung thiên địa ', 'vung tàn tán ', 'vung tán tàn ', 'và ', 'vài ', 'vài ba ', 'vài người ', 'vài nhà ', 'vài nơi ', 'vài tên ', 'vài điều ', 'vào ', 'vào gặp ', 'vào khoảng ', 'vào lúc ', 'vào vùng ', 'vào đến ', 'vâng ', 'vâng chịu ', 'vâng dạ ', 'vâng vâng ', 'vâng ý ', 'vèo ', 'vèo vèo ', 'vì ', 'vì chưng ', 'vì rằng ', 'vì sao ', 'vì thế ', 'vì vậy ', 'ví bằng ', 'ví dù ', 'ví phỏng ', 'ví thử ', 'vô hình trung ', 'vô kể ', 'vô luận ', 'vô vàn ', 'vùng ', 'vùng lên ', 'vùng nước ', 'văng tê ', 'vượt ', 'vượt khỏi ', 'vượt quá ', 'vạn nhất ', 'vả chăng ', 'vả lại ', 'vấn đề ', 'vấn đề quan trọng ', 'vẫn ', 'vẫn thế ', 'vậy ', 'vậy là ', 'vậy mà ', 'vậy nên ', 'vậy ra ', 'vậy thì ', 'vậy ư ', 'về ', 'về không ', 'về nước ', 'về phần ', 'về sau ', 'về tay ', 'vị trí ', 'vị tất ', 'vốn dĩ ', 'với ', 'với lại ', 'với nhau ', 'vở ', 'vụt ', 'vừa ', 'vừa khi ', 'vừa lúc ', 'vừa mới ', 'vừa qua ', 'vừa rồi ', 'vừa vừa ', 'xa ', 'xa cách ', 'xa gần ', 'xa nhà ', 'xa tanh ', 'xa tắp ', 'xa xa ', 'xa xả ', 'xem ', 'xem lại ', 'xem ra ', 'xem số ', 'xin ', 'xin gặp ', 'xin vâng ', 'xiết bao ', 'xon xón ', 'xoành xoạch ', 'xoét ', 'xoẳn ', 'xoẹt ', 'xuất hiện ', 'xuất kì bất ý ', 'xuất kỳ bất ý ', 'xuể ', 'xuống ', 'xăm xúi ', 'xăm xăm ', 'xăm xắm ', 'xảy ra ', 'xềnh xệch ', 'xệp ', 'xử lý ', 'yêu cầu ', 'à ', 'à này ', 'à ơi ', 'ào ', 'ào vào ', 'ào ào ', 'á ', 'á à ', 'ái ', 'ái chà ', 'ái dà ', 'áng ', 'áng như ', 'âu là ', 'ít ', 'ít biết ', 'ít có ', 'ít hơn ', 'ít khi ', 'ít lâu ', 'ít nhiều ', 'ít nhất ', 'ít nữa ', 'ít quá ', 'ít ra ', 'ít thôi ', 'ít thấy ', 'ô hay ', 'ô hô ', 'ô kê ', 'ô kìa ', 'ôi chao ', 'ôi thôi ', 'ông ', 'ông nhỏ ', 'ông tạo ', 'ông từ ', 'ông ấy ', 'ông ổng ', 'úi ', 'úi chà ', 'úi dào ', 'ý ', 'ý chừng ', 'ý da ', 'ý hoặc ', 'ăn ', 'ăn chung ', 'ăn chắc ', 'ăn chịu ', 'ăn cuộc ', 'ăn hết ', 'ăn hỏi ', 'ăn làm ', 'ăn người ', 'ăn ngồi ', 'ăn quá ', 'ăn riêng ', 'ăn sáng ', 'ăn tay ', 'ăn trên ', 'ăn về ', 'đang ', 'đang tay ', 'đang thì ', 'điều ', 'điều gì ', 'điều kiện ', 'điểm ', 'điểm chính ', 'điểm gặp ', 'điểm đầu tiên ', 'đành đạch ', 'đáng ', 'đáng kể ', 'đáng lí ', 'đáng lý ', 'đáng lẽ ', 'đáng số ', 'đánh giá ', 'đánh đùng ', 'đáo để ', 'đâu ', 'đâu có ', 'đâu cũng ', 'đâu như ', 'đâu nào ', 'đâu phải ', 'đâu đâu ', 'đâu đây ', 'đâu đó ', 'đây ', 'đây này ', 'đây rồi ', 'đây đó ', 'đã ', 'đã hay ', 'đã không ', 'đã là ', 'đã lâu ', 'đã thế ', 'đã vậy ', 'đã đủ ', 'đó ', 'đó đây ', 'đúng ', 'đúng ngày ', 'đúng ra ', 'đúng tuổi ', 'đúng với ', 'đơn vị ', 'đưa ', 'đưa cho ', 'đưa chuyện ', 'đưa em ', 'đưa ra ', 'đưa tay ', 'đưa tin ', 'đưa tới ', 'đưa vào ', 'đưa về ', 'đưa xuống ', 'đưa đến ', 'được ', 'được cái ', 'được lời ', 'được nước ', 'được tin ', 'đại loại ', 'đại nhân ', 'đại phàm ', 'đại để ', 'đạt ', 'đảm bảo ', 'đầu tiên ', 'đầy ', 'đầy năm ', 'đầy phè ', 'đầy tuổi ', 'đặc biệt ', 'đặt ', 'đặt làm ', 'đặt mình ', 'đặt mức ', 'đặt ra ', 'đặt trước ', 'đặt để ', 'đến ', 'đến bao giờ ', 'đến cùng ', 'đến cùng cực ', 'đến cả ', 'đến giờ ', 'đến gần ', 'đến hay ', 'đến khi ', 'đến lúc ', 'đến lời ', 'đến nay ', 'đến ngày ', 'đến nơi ', 'đến nỗi ', 'đến thì ', 'đến thế ', 'đến tuổi ', 'đến xem ', 'đến điều ', 'đến đâu ', 'đều ', 'đều bước ', 'đều nhau ', 'đều đều ', 'để ', 'để cho ', 'để giống ', 'để không ', 'để lòng ', 'để lại ', 'để mà ', 'để phần ', 'để được ', 'để đến nỗi ', 'đối với ', 'đồng thời ', 'đủ ', 'đủ dùng ', 'đủ nơi ', 'đủ số ', 'đủ điều ', 'đủ điểm ', 'ơ ', 'ơ hay ', 'ơ kìa ', 'ơi ', 'ơi là ', 'ư ', 'ạ ', 'ạ ơi ', 'ấy ', 'ấy là ', 'ầu ơ ', 'ắt ', 'ắt hẳn ', 'ắt là ', 'ắt phải ', 'ắt thật ', 'ối dào ', 'ối giời ', 'ối giời ơi ', 'ồ ', 'ồ ồ ', 'ổng ', 'ớ ', 'ớ này ', 'ờ ', 'ờ ờ ', 'ở ', 'ở lại ', 'ở như ', 'ở nhờ ', 'ở năm ', 'ở trên ', 'ở vào ', 'ở đây ', 'ở đó ', 'ở được ', 'ủa ', 'ứ hự ', 'ứ ừ ', 'ừ ', 'ừ nhé ', 'ừ thì ', 'ừ ào ', 'ừ ừ ', 'ử']}\n"
          ]
        }
      ],
      "source": [
        "from sklearn.model_selection import GridSearchCV\n",
        "from sklearn.linear_model import LogisticRegression\n",
        "\n",
        "# Define the parameter grid\n",
        "param_grid = {\n",
        "    'tfidf__ngram_range': [(1, 1), (1, 3), (1, 5)],\n",
        "    'tfidf__stop_words': [STOPWORDS, None],\n",
        "    'tfidf__max_df': [0.5, 0.75, 1.0],\n",
        "    'tfidf__min_df': [2, 3, 4],\n",
        "    'tfidf__smooth_idf': [True, False],\n",
        "}\n",
        "\n",
        "# Define the pipeline\n",
        "pipeline = Pipeline([\n",
        "    ('tfidf', TfidfVectorizer()),\n",
        "    ('ovr', OneVsRestClassifier(LogisticRegression(random_state = 42)))\n",
        "])\n",
        "\n",
        "# Initialize the grid search\n",
        "grid_search = GridSearchCV(pipeline, param_grid, cv=5)\n",
        "\n",
        "# Fit the grid search to the data\n",
        "grid_search.fit(X_train, y_train)\n",
        "\n",
        "# Get the best parameters\n",
        "best_params = grid_search.best_params_\n",
        "\n",
        "# Print the best parameters\n",
        "print(best_params)\n"
      ]
    },
    {
      "cell_type": "code",
      "execution_count": null,
      "metadata": {
        "colab": {
          "base_uri": "https://localhost:8080/"
        },
        "id": "SF4RIeDeLpYY",
        "outputId": "319f5323-a700-46b7-ea45-0d5e67ebb9a2"
      },
      "outputs": [
        {
          "name": "stdout",
          "output_type": "stream",
          "text": [
            "{'bow__max_df': 0.75, 'bow__min_df': 2, 'bow__ngram_range': (1, 3), 'bow__stop_words': ['a lô ', 'a ha ', 'ai ', 'ai ai ', 'ai nấy ', 'ai đó ', 'alô ', 'amen ', 'anh ', 'anh ấy ', 'ba ', 'ba ba ', 'ba bản ', 'ba cùng ', 'ba họ ', 'ba ngày ', 'ba ngôi ', 'ba tăng ', 'bao giờ ', 'bao lâu ', 'bao nhiêu ', 'bao nả ', 'bay biến ', 'biết ', 'biết bao ', 'biết bao nhiêu ', 'biết chắc ', 'biết chừng nào ', 'biết mình ', 'biết mấy ', 'biết thế ', 'biết trước ', 'biết việc ', 'biết đâu ', 'biết đâu chừng ', 'biết đâu đấy ', 'biết được ', 'buổi ', 'buổi làm ', 'buổi mới ', 'buổi ngày ', 'buổi sớm ', 'bà ', 'bà ấy ', 'bài ', 'bài bác ', 'bài bỏ ', 'bài cái ', 'bác ', 'bán ', 'bán cấp ', 'bán dạ ', 'bán thế ', 'bây bẩy ', 'bây chừ ', 'bây giờ ', 'bây nhiêu ', 'bèn ', 'béng ', 'bên ', 'bên bị ', 'bên có ', 'bên cạnh ', 'bông ', 'bước ', 'bước khỏi ', 'bước tới ', 'bước đi ', 'bạn ', 'bản ', 'bản bộ ', 'bản riêng ', 'bản thân ', 'bản ý ', 'bất chợt ', 'bất cứ ', 'bất giác ', 'bất kì ', 'bất kể ', 'bất kỳ ', 'bất luận ', 'bất ngờ ', 'bất nhược ', 'bất quá ', 'bất quá chỉ ', 'bất thình lình ', 'bất tử ', 'bất đồ ', 'bấy ', 'bấy chầy ', 'bấy chừ ', 'bấy giờ ', 'bấy lâu ', 'bấy lâu nay ', 'bấy nay ', 'bấy nhiêu ', 'bập bà bập bõm ', 'bập bõm ', 'bắt đầu ', 'bắt đầu từ ', 'bằng ', 'bằng cứ ', 'bằng không ', 'bằng người ', 'bằng nhau ', 'bằng như ', 'bằng nào ', 'bằng nấy ', 'bằng vào ', 'bằng được ', 'bằng ấy ', 'bển ', 'bệt ', 'bị ', 'bị chú ', 'bị vì ', 'bỏ ', 'bỏ bà ', 'bỏ cha ', 'bỏ cuộc ', 'bỏ không ', 'bỏ lại ', 'bỏ mình ', 'bỏ mất ', 'bỏ mẹ ', 'bỏ nhỏ ', 'bỏ quá ', 'bỏ ra ', 'bỏ riêng ', 'bỏ việc ', 'bỏ xa ', 'bỗng ', 'bỗng chốc ', 'bỗng dưng ', 'bỗng không ', 'bỗng nhiên ', 'bỗng nhưng ', 'bỗng thấy ', 'bỗng đâu ', 'bộ ', 'bộ thuộc ', 'bộ điều ', 'bội phần ', 'bớ ', 'bởi ', 'bởi ai ', 'bởi chưng ', 'bởi nhưng ', 'bởi sao ', 'bởi thế ', 'bởi thế cho nên ', 'bởi tại ', 'bởi vì ', 'bởi vậy ', 'bởi đâu ', 'bức ', 'cao ', 'cao lâu ', 'cao ráo ', 'cao răng ', 'cao sang ', 'cao số ', 'cao thấp ', 'cao thế ', 'cao xa ', 'cha ', 'cha chả ', 'chao ôi ', 'chia sẻ ', 'chiếc ', 'cho ', 'cho biết ', 'cho chắc ', 'cho hay ', 'cho nhau ', 'cho nên ', 'cho rằng ', 'cho rồi ', 'cho thấy ', 'cho tin ', 'cho tới ', 'cho tới khi ', 'cho về ', 'cho ăn ', 'cho đang ', 'cho được ', 'cho đến ', 'cho đến khi ', 'cho đến nỗi ', 'choa ', 'chu cha ', 'chui cha ', 'chung ', 'chung cho ', 'chung chung ', 'chung cuộc ', 'chung cục ', 'chung nhau ', 'chung qui ', 'chung quy ', 'chung quy lại ', 'chung ái ', 'chuyển ', 'chuyển tự ', 'chuyển đạt ', 'chuyện ', 'chuẩn bị ', 'chành chạnh ', 'chí chết ', 'chính ', 'chính bản ', 'chính giữa ', 'chính là ', 'chính thị ', 'chính điểm ', 'chùn chùn ', 'chùn chũn ', 'chú ', 'chú dẫn ', 'chú khách ', 'chú mày ', 'chú mình ', 'chúng ', 'chúng mình ', 'chúng ta ', 'chúng tôi ', 'chúng ông ', 'chăn chắn ', 'chăng ', 'chăng chắc ', 'chăng nữa ', 'chơi ', 'chơi họ ', 'chưa ', 'chưa bao giờ ', 'chưa chắc ', 'chưa có ', 'chưa cần ', 'chưa dùng ', 'chưa dễ ', 'chưa kể ', 'chưa tính ', 'chưa từng ', 'chầm chập ', 'chậc ', 'chắc ', 'chắc chắn ', 'chắc dạ ', 'chắc hẳn ', 'chắc lòng ', 'chắc người ', 'chắc vào ', 'chắc ăn ', 'chẳng lẽ ', 'chẳng những ', 'chẳng nữa ', 'chẳng phải ', 'chết nỗi ', 'chết thật ', 'chết tiệt ', 'chỉ ', 'chỉ chính ', 'chỉ có ', 'chỉ là ', 'chỉ tên ', 'chỉn ', 'chị ', 'chị bộ ', 'chị ấy ', 'chịu ', 'chịu chưa ', 'chịu lời ', 'chịu tốt ', 'chịu ăn ', 'chọn ', 'chọn bên ', 'chọn ra ', 'chốc chốc ', 'chớ ', 'chớ chi ', 'chớ gì ', 'chớ không ', 'chớ kể ', 'chớ như ', 'chợt ', 'chợt nghe ', 'chợt nhìn ', 'chủn ', 'chứ ', 'chứ ai ', 'chứ còn ', 'chứ gì ', 'chứ không ', 'chứ không phải ', 'chứ lại ', 'chứ lị ', 'chứ như ', 'chứ sao ', 'coi bộ ', 'coi mòi ', 'con ', 'con con ', 'con dạ ', 'con nhà ', 'con tính ', 'cu cậu ', 'cuối ', 'cuối cùng ', 'cuối điểm ', 'cuốn ', 'cuộc ', 'càng ', 'càng càng ', 'càng hay ', 'cá nhân ', 'các ', 'các cậu ', 'cách ', 'cách bức ', 'cách không ', 'cách nhau ', 'cách đều ', 'cái ', 'cái gì ', 'cái họ ', 'cái đã ', 'cái đó ', 'cái ấy ', 'câu hỏi ', 'cây ', 'cây nước ', 'còn ', 'còn như ', 'còn nữa ', 'còn thời gian ', 'còn về ', 'có ', 'có ai ', 'có chuyện ', 'có chăng ', 'có chăng là ', 'có chứ ', 'có cơ ', 'có dễ ', 'có họ ', 'có khi ', 'có ngày ', 'có người ', 'có nhiều ', 'có nhà ', 'có phải ', 'có số ', 'có tháng ', 'có thế ', 'có thể ', 'có vẻ ', 'có ý ', 'có ăn ', 'có điều ', 'có điều kiện ', 'có đáng ', 'có đâu ', 'có được ', 'cóc khô ', 'cô ', 'cô mình ', 'cô quả ', 'cô tăng ', 'cô ấy ', 'công nhiên ', 'cùng ', 'cùng chung ', 'cùng cực ', 'cùng nhau ', 'cùng tuổi ', 'cùng tột ', 'cùng với ', 'cùng ăn ', 'căn ', 'căn cái ', 'căn cắt ', 'căn tính ', 'cũng ', 'cũng như ', 'cũng nên ', 'cũng thế ', 'cũng vậy ', 'cũng vậy thôi ', 'cũng được ', 'cơ ', 'cơ chỉ ', 'cơ chừng ', 'cơ cùng ', 'cơ dẫn ', 'cơ hồ ', 'cơ hội ', 'cơ mà ', 'cơn ', 'cả ', 'cả nghe ', 'cả nghĩ ', 'cả ngày ', 'cả người ', 'cả nhà ', 'cả năm ', 'cả thảy ', 'cả thể ', 'cả tin ', 'cả ăn ', 'cả đến ', 'cảm thấy ', 'cảm ơn ', 'cấp ', 'cấp số ', 'cấp trực tiếp ', 'cần ', 'cần cấp ', 'cần gì ', 'cần số ', 'cật lực ', 'cật sức ', 'cậu ', 'cổ lai ', 'cụ thể ', 'cụ thể là ', 'cụ thể như ', 'của ', 'của ngọt ', 'của tin ', 'cứ ', 'cứ như ', 'cứ việc ', 'cứ điểm ', 'cực lực ', 'do ', 'do vì ', 'do vậy ', 'do đó ', 'duy ', 'duy chỉ ', 'duy có ', 'dài ', 'dài lời ', 'dài ra ', 'dành ', 'dành dành ', 'dào ', 'dì ', 'dù ', 'dù cho ', 'dù dì ', 'dù gì ', 'dù rằng ', 'dù sao ', 'dùng ', 'dùng cho ', 'dùng hết ', 'dùng làm ', 'dùng đến ', 'dưới ', 'dưới nước ', 'dạ ', 'dạ bán ', 'dạ con ', 'dạ dài ', 'dạ dạ ', 'dạ khách ', 'dần dà ', 'dần dần ', 'dầu sao ', 'dẫn ', 'dẫu ', 'dẫu mà ', 'dẫu rằng ', 'dẫu sao ', 'dễ ', 'dễ dùng ', 'dễ gì ', 'dễ khiến ', 'dễ nghe ', 'dễ ngươi ', 'dễ như chơi ', 'dễ sợ ', 'dễ sử dụng ', 'dễ thường ', 'dễ thấy ', 'dễ ăn ', 'dễ đâu ', 'dở chừng ', 'dữ ', 'dữ cách ', 'em ', 'em em ', 'giá trị ', 'giá trị thực tế ', 'giảm ', 'giảm chính ', 'giảm thấp ', 'giảm thế ', 'giống ', 'giống người ', 'giống nhau ', 'giống như ', 'giờ ', 'giờ lâu ', 'giờ này ', 'giờ đi ', 'giờ đây ', 'giờ đến ', 'giữ ', 'giữ lấy ', 'giữ ý ', 'giữa ', 'giữa lúc ', 'gây ', 'gây cho ', 'gây giống ', 'gây ra ', 'gây thêm ', 'gì ', 'gì gì ', 'gì đó ', 'gần ', 'gần bên ', 'gần hết ', 'gần ngày ', 'gần như ', 'gần xa ', 'gần đây ', 'gần đến ', 'gặp ', 'gặp khó khăn ', 'gặp phải ', 'gồm ', 'hay ', 'hay biết ', 'hay hay ', 'hay không ', 'hay là ', 'hay làm ', 'hay nhỉ ', 'hay nói ', 'hay sao ', 'hay tin ', 'hay đâu ', 'hiểu ', 'hiện nay ', 'hiện tại ', 'hoàn toàn ', 'hoặc ', 'hoặc là ', 'hãy ', 'hãy còn ', 'hơn ', 'hơn cả ', 'hơn hết ', 'hơn là ', 'hơn nữa ', 'hơn trước ', 'hầu hết ', 'hết ', 'hết chuyện ', 'hết cả ', 'hết của ', 'hết nói ', 'hết ráo ', 'hết rồi ', 'hết ý ', 'họ ', 'họ gần ', 'họ xa ', 'hỏi ', 'hỏi lại ', 'hỏi xem ', 'hỏi xin ', 'hỗ trợ ', 'khi ', 'khi khác ', 'khi không ', 'khi nào ', 'khi nên ', 'khi trước ', 'khiến ', 'khoảng ', 'khoảng cách ', 'khoảng không ', 'khá ', 'khá tốt ', 'khác ', 'khác gì ', 'khác khác ', 'khác nhau ', 'khác nào ', 'khác thường ', 'khác xa ', 'khách ', 'khó ', 'khó biết ', 'khó chơi ', 'khó khăn ', 'khó làm ', 'khó mở ', 'khó nghe ', 'khó nghĩ ', 'khó nói ', 'khó thấy ', 'khó tránh ', 'không ', 'không ai ', 'không bao giờ ', 'không bao lâu ', 'không biết ', 'không bán ', 'không chỉ ', 'không còn ', 'không có ', 'không có gì ', 'không cùng ', 'không cần ', 'không cứ ', 'không dùng ', 'không gì ', 'không hay ', 'không khỏi ', 'không kể ', 'không ngoài ', 'không nhận ', 'không những ', 'không phải ', 'không phải không ', 'không thể ', 'không tính ', 'không điều kiện ', 'không được ', 'không đầy ', 'không để ', 'khẳng định ', 'khỏi ', 'khỏi nói ', 'kể ', 'kể cả ', 'kể như ', 'kể tới ', 'kể từ ', 'liên quan ', 'loại ', 'loại từ ', 'luôn ', 'luôn cả ', 'luôn luôn ', 'luôn tay ', 'là ', 'là cùng ', 'là là ', 'là nhiều ', 'là phải ', 'là thế nào ', 'là vì ', 'là ít ', 'làm ', 'làm bằng ', 'làm cho ', 'làm dần dần ', 'làm gì ', 'làm lòng ', 'làm lại ', 'làm lấy ', 'làm mất ', 'làm ngay ', 'làm như ', 'làm nên ', 'làm ra ', 'làm riêng ', 'làm sao ', 'làm theo ', 'làm thế nào ', 'làm tin ', 'làm tôi ', 'làm tăng ', 'làm tại ', 'làm tắp lự ', 'làm vì ', 'làm đúng ', 'làm được ', 'lâu ', 'lâu các ', 'lâu lâu ', 'lâu nay ', 'lâu ngày ', 'lên ', 'lên cao ', 'lên cơn ', 'lên mạnh ', 'lên ngôi ', 'lên nước ', 'lên số ', 'lên xuống ', 'lên đến ', 'lòng ', 'lòng không ', 'lúc ', 'lúc khác ', 'lúc lâu ', 'lúc nào ', 'lúc này ', 'lúc sáng ', 'lúc trước ', 'lúc đi ', 'lúc đó ', 'lúc đến ', 'lúc ấy ', 'lý do ', 'lượng ', 'lượng cả ', 'lượng số ', 'lượng từ ', 'lại ', 'lại bộ ', 'lại cái ', 'lại còn ', 'lại giống ', 'lại làm ', 'lại người ', 'lại nói ', 'lại nữa ', 'lại quả ', 'lại thôi ', 'lại ăn ', 'lại đây ', 'lấy ', 'lấy có ', 'lấy cả ', 'lấy giống ', 'lấy làm ', 'lấy lý do ', 'lấy lại ', 'lấy ra ', 'lấy ráo ', 'lấy sau ', 'lấy số ', 'lấy thêm ', 'lấy thế ', 'lấy vào ', 'lấy xuống ', 'lấy được ', 'lấy để ', 'lần ', 'lần khác ', 'lần lần ', 'lần nào ', 'lần này ', 'lần sang ', 'lần sau ', 'lần theo ', 'lần trước ', 'lần tìm ', 'lớn ', 'lớn lên ', 'lớn nhỏ ', 'lời ', 'lời chú ', 'lời nói ', 'mang ', 'mang lại ', 'mang mang ', 'mang nặng ', 'mang về ', 'muốn ', 'mà ', 'mà cả ', 'mà không ', 'mà lại ', 'mà thôi ', 'mà vẫn ', 'mình ', 'mạnh ', 'mất ', 'mất còn ', 'mọi ', 'mọi giờ ', 'mọi khi ', 'mọi lúc ', 'mọi người ', 'mọi nơi ', 'mọi sự ', 'mọi thứ ', 'mọi việc ', 'mối ', 'mỗi ', 'mỗi lúc ', 'mỗi lần ', 'mỗi một ', 'mỗi ngày ', 'mỗi người ', 'một ', 'một cách ', 'một cơn ', 'một khi ', 'một lúc ', 'một số ', 'một vài ', 'một ít ', 'mới ', 'mới hay ', 'mới rồi ', 'mới đây ', 'mở ', 'mở mang ', 'mở nước ', 'mở ra ', 'mợ ', 'mức ', 'nay ', 'ngay ', 'ngay bây giờ ', 'ngay cả ', 'ngay khi ', 'ngay khi đến ', 'ngay lúc ', 'ngay lúc này ', 'ngay lập tức ', 'ngay thật ', 'ngay tức khắc ', 'ngay tức thì ', 'ngay từ ', 'nghe ', 'nghe chừng ', 'nghe hiểu ', 'nghe không ', 'nghe lại ', 'nghe nhìn ', 'nghe như ', 'nghe nói ', 'nghe ra ', 'nghe rõ ', 'nghe thấy ', 'nghe tin ', 'nghe trực tiếp ', 'nghe đâu ', 'nghe đâu như ', 'nghe được ', 'nghen ', 'nghiễm nhiên ', 'nghĩ ', 'nghĩ lại ', 'nghĩ ra ', 'nghĩ tới ', 'nghĩ xa ', 'nghĩ đến ', 'nghỉm ', 'ngoài ', 'ngoài này ', 'ngoài ra ', 'ngoài xa ', 'ngoải ', 'nguồn ', 'ngày ', 'ngày càng ', 'ngày cấp ', 'ngày giờ ', 'ngày ngày ', 'ngày nào ', 'ngày này ', 'ngày nọ ', 'ngày qua ', 'ngày rày ', 'ngày tháng ', 'ngày xưa ', 'ngày xửa ', 'ngày đến ', 'ngày ấy ', 'ngôi ', 'ngôi nhà ', 'ngôi thứ ', 'ngõ hầu ', 'ngăn ngắt ', 'ngươi ', 'người ', 'người hỏi ', 'người khác ', 'người khách ', 'người mình ', 'người nghe ', 'người người ', 'người nhận ', 'ngọn ', 'ngọn nguồn ', 'ngọt ', 'ngồi ', 'ngồi bệt ', 'ngồi không ', 'ngồi sau ', 'ngồi trệt ', 'ngộ nhỡ ', 'nhanh ', 'nhanh lên ', 'nhanh tay ', 'nhau ', 'nhiên hậu ', 'nhiều ', 'nhiều ít ', 'nhiệt liệt ', 'nhung nhăng ', 'nhà ', 'nhà chung ', 'nhà khó ', 'nhà làm ', 'nhà ngoài ', 'nhà ngươi ', 'nhà tôi ', 'nhà việc ', 'nhân dịp ', 'nhân tiện ', 'nhé ', 'nhìn ', 'nhìn chung ', 'nhìn lại ', 'nhìn nhận ', 'nhìn theo ', 'nhìn thấy ', 'nhìn xuống ', 'nhóm ', 'nhón nhén ', 'như ', 'như ai ', 'như chơi ', 'như không ', 'như là ', 'như nhau ', 'như quả ', 'như sau ', 'như thường ', 'như thế ', 'như thế nào ', 'như thể ', 'như trên ', 'như trước ', 'như tuồng ', 'như vậy ', 'như ý ', 'nhưng ', 'nhưng mà ', 'nhược bằng ', 'nhất ', 'nhất loạt ', 'nhất luật ', 'nhất là ', 'nhất mực ', 'nhất nhất ', 'nhất quyết ', 'nhất sinh ', 'nhất thiết ', 'nhất thì ', 'nhất tâm ', 'nhất tề ', 'nhất đán ', 'nhất định ', 'nhận ', 'nhận biết ', 'nhận họ ', 'nhận làm ', 'nhận nhau ', 'nhận ra ', 'nhận thấy ', 'nhận việc ', 'nhận được ', 'nhằm ', 'nhằm khi ', 'nhằm lúc ', 'nhằm vào ', 'nhằm để ', 'nhỉ ', 'nhỏ ', 'nhỏ người ', 'nhớ ', 'nhớ bập bõm ', 'nhớ lại ', 'nhớ lấy ', 'nhớ ra ', 'nhờ ', 'nhờ chuyển ', 'nhờ có ', 'nhờ nhờ ', 'nhờ đó ', 'nhỡ ra ', 'những ', 'những ai ', 'những khi ', 'những là ', 'những lúc ', 'những muốn ', 'những như ', 'nào ', 'nào cũng ', 'nào hay ', 'nào là ', 'nào phải ', 'nào đâu ', 'nào đó ', 'này ', 'này nọ ', 'nên ', 'nên chi ', 'nên chăng ', 'nên làm ', 'nên người ', 'nên tránh ', 'nó ', 'nóc ', 'nói ', 'nói bông ', 'nói chung ', 'nói khó ', 'nói là ', 'nói lên ', 'nói lại ', 'nói nhỏ ', 'nói phải ', 'nói qua ', 'nói ra ', 'nói riêng ', 'nói rõ ', 'nói thêm ', 'nói thật ', 'nói toẹt ', 'nói trước ', 'nói tốt ', 'nói với ', 'nói xa ', 'nói ý ', 'nói đến ', 'nói đủ ', 'năm ', 'năm tháng ', 'nơi ', 'nơi nơi ', 'nước ', 'nước bài ', 'nước cùng ', 'nước lên ', 'nước nặng ', 'nước quả ', 'nước xuống ', 'nước ăn ', 'nước đến ', 'nấy ', 'nặng ', 'nặng căn ', 'nặng mình ', 'nặng về ', 'nếu ', 'nếu có ', 'nếu cần ', 'nếu không ', 'nếu mà ', 'nếu như ', 'nếu thế ', 'nếu vậy ', 'nếu được ', 'nền ', 'nọ ', 'nớ ', 'nức nở ', 'nữa ', 'nữa khi ', 'nữa là ', 'nữa rồi ', 'oai oái ', 'oái ', 'pho ', 'phè ', 'phè phè ', 'phía ', 'phía bên ', 'phía bạn ', 'phía dưới ', 'phía sau ', 'phía trong ', 'phía trên ', 'phía trước ', 'phóc ', 'phót ', 'phù hợp ', 'phăn phắt ', 'phương chi ', 'phải ', 'phải biết ', 'phải chi ', 'phải chăng ', 'phải cách ', 'phải cái ', 'phải giờ ', 'phải khi ', 'phải không ', 'phải lại ', 'phải lời ', 'phải người ', 'phải như ', 'phải rồi ', 'phải tay ', 'phần ', 'phần lớn ', 'phần nhiều ', 'phần nào ', 'phần sau ', 'phần việc ', 'phắt ', 'phỉ phui ', 'phỏng ', 'phỏng như ', 'phỏng nước ', 'phỏng theo ', 'phỏng tính ', 'phốc ', 'phụt ', 'phứt ', 'qua ', 'qua chuyện ', 'qua khỏi ', 'qua lại ', 'qua lần ', 'qua ngày ', 'qua tay ', 'qua thì ', 'qua đi ', 'quan trọng ', 'quan trọng vấn đề ', 'quan tâm ', 'quay ', 'quay bước ', 'quay lại ', 'quay số ', 'quay đi ', 'quá ', 'quá bán ', 'quá bộ ', 'quá giờ ', 'quá lời ', 'quá mức ', 'quá nhiều ', 'quá tay ', 'quá thì ', 'quá tin ', 'quá trình ', 'quá tuổi ', 'quá đáng ', 'quá ư ', 'quả ', 'quả là ', 'quả thật ', 'quả thế ', 'quả vậy ', 'quận ', 'ra ', 'ra bài ', 'ra bộ ', 'ra chơi ', 'ra gì ', 'ra lại ', 'ra lời ', 'ra ngôi ', 'ra người ', 'ra sao ', 'ra tay ', 'ra vào ', 'ra ý ', 'ra điều ', 'ra đây ', 'ren rén ', 'riu ríu ', 'riêng ', 'riêng từng ', 'riệt ', 'rày ', 'ráo ', 'ráo cả ', 'ráo nước ', 'ráo trọi ', 'rén ', 'rén bước ', 'rích ', 'rón rén ', 'rõ ', 'rõ là ', 'rõ thật ', 'rút cục ', 'răng ', 'răng răng ', 'rất ', 'rất lâu ', 'rằng ', 'rằng là ', 'rốt cuộc ', 'rốt cục ', 'rồi ', 'rồi nữa ', 'rồi ra ', 'rồi sao ', 'rồi sau ', 'rồi tay ', 'rồi thì ', 'rồi xem ', 'rồi đây ', 'rứa ', 'sa sả ', 'sang ', 'sang năm ', 'sang sáng ', 'sang tay ', 'sao ', 'sao bản ', 'sao bằng ', 'sao cho ', 'sao vậy ', 'sao đang ', 'sau ', 'sau chót ', 'sau cuối ', 'sau cùng ', 'sau hết ', 'sau này ', 'sau nữa ', 'sau sau ', 'sau đây ', 'sau đó ', 'so ', 'so với ', 'song le ', 'suýt ', 'suýt nữa ', 'sáng ', 'sáng ngày ', 'sáng rõ ', 'sáng thế ', 'sáng ý ', 'sì ', 'sì sì ', 'sất ', 'sắp ', 'sắp đặt ', 'sẽ ', 'sẽ biết ', 'sẽ hay ', 'số ', 'số cho biết ', 'số cụ thể ', 'số loại ', 'số là ', 'số người ', 'số phần ', 'số thiếu ', 'sốt sột ', 'sớm ', 'sớm ngày ', 'sở dĩ ', 'sử dụng ', 'sự ', 'sự thế ', 'sự việc ', 'tanh ', 'tanh tanh ', 'tay ', 'tay quay ', 'tha hồ ', 'tha hồ chơi ', 'tha hồ ăn ', 'than ôi ', 'thanh ', 'thanh ba ', 'thanh chuyển ', 'thanh không ', 'thanh thanh ', 'thanh tính ', 'thanh điều kiện ', 'thanh điểm ', 'thay đổi ', 'thay đổi tình trạng ', 'theo ', 'theo bước ', 'theo như ', 'theo tin ', 'thi thoảng ', 'thiếu ', 'thiếu gì ', 'thiếu điểm ', 'thoạt ', 'thoạt nghe ', 'thoạt nhiên ', 'thoắt ', 'thuần ', 'thuần ái ', 'thuộc ', 'thuộc bài ', 'thuộc cách ', 'thuộc lại ', 'thuộc từ ', 'thà ', 'thà là ', 'thà rằng ', 'thành ra ', 'thành thử ', 'thái quá ', 'tháng ', 'tháng ngày ', 'tháng năm ', 'tháng tháng ', 'thêm ', 'thêm chuyện ', 'thêm giờ ', 'thêm vào ', 'thì ', 'thì giờ ', 'thì là ', 'thì phải ', 'thì ra ', 'thì thôi ', 'thình lình ', 'thích ', 'thích cứ ', 'thích thuộc ', 'thích tự ', 'thích ý ', 'thím ', 'thôi ', 'thôi việc ', 'thúng thắng ', 'thương ôi ', 'thường ', 'thường bị ', 'thường hay ', 'thường khi ', 'thường số ', 'thường sự ', 'thường thôi ', 'thường thường ', 'thường tính ', 'thường tại ', 'thường xuất hiện ', 'thường đến ', 'thảo hèn ', 'thảo nào ', 'thấp ', 'thấp cơ ', 'thấp thỏm ', 'thấp xuống ', 'thấy ', 'thấy tháng ', 'thẩy ', 'thậm ', 'thậm chí ', 'thậm cấp ', 'thậm từ ', 'thật ', 'thật chắc ', 'thật là ', 'thật lực ', 'thật quả ', 'thật ra ', 'thật sự ', 'thật thà ', 'thật tốt ', 'thật vậy ', 'thế ', 'thế chuẩn bị ', 'thế là ', 'thế lại ', 'thế mà ', 'thế nào ', 'thế nên ', 'thế ra ', 'thế sự ', 'thế thì ', 'thế thôi ', 'thế thường ', 'thế thế ', 'thế à ', 'thế đó ', 'thếch ', 'thỉnh thoảng ', 'thỏm ', 'thốc ', 'thốc tháo ', 'thốt ', 'thốt nhiên ', 'thốt nói ', 'thốt thôi ', 'thộc ', 'thời gian ', 'thời gian sử dụng ', 'thời gian tính ', 'thời điểm ', 'thục mạng ', 'thứ ', 'thứ bản ', 'thứ đến ', 'thửa ', 'thực hiện ', 'thực hiện đúng ', 'thực ra ', 'thực sự ', 'thực tế ', 'thực vậy ', 'tin ', 'tin thêm ', 'tin vào ', 'tiếp theo ', 'tiếp tục ', 'tiếp đó ', 'tiện thể ', 'toà ', 'toé khói ', 'toẹt ', 'trong ', 'trong khi ', 'trong lúc ', 'trong mình ', 'trong ngoài ', 'trong này ', 'trong số ', 'trong vùng ', 'trong đó ', 'trong ấy ', 'tránh ', 'tránh khỏi ', 'tránh ra ', 'tránh tình trạng ', 'tránh xa ', 'trên ', 'trên bộ ', 'trên dưới ', 'trước ', 'trước hết ', 'trước khi ', 'trước kia ', 'trước nay ', 'trước ngày ', 'trước nhất ', 'trước sau ', 'trước tiên ', 'trước tuổi ', 'trước đây ', 'trước đó ', 'trả ', 'trả của ', 'trả lại ', 'trả ngay ', 'trả trước ', 'trếu tráo ', 'trển ', 'trệt ', 'trệu trạo ', 'trỏng ', 'trời đất ơi ', 'trở thành ', 'trừ phi ', 'trực tiếp ', 'trực tiếp làm ', 'tuy ', 'tuy có ', 'tuy là ', 'tuy nhiên ', 'tuy rằng ', 'tuy thế ', 'tuy vậy ', 'tuy đã ', 'tuyệt nhiên ', 'tuần tự ', 'tuốt luốt ', 'tuốt tuồn tuột ', 'tuốt tuột ', 'tuổi ', 'tuổi cả ', 'tuổi tôi ', 'tà tà ', 'tên ', 'tên chính ', 'tên cái ', 'tên họ ', 'tên tự ', 'tênh ', 'tênh tênh ', 'tìm ', 'tìm bạn ', 'tìm cách ', 'tìm hiểu ', 'tìm ra ', 'tìm việc ', 'tình trạng ', 'tính ', 'tính cách ', 'tính căn ', 'tính người ', 'tính phỏng ', 'tính từ ', 'tít mù ', 'tò te ', 'tôi ', 'tôi con ', 'tông tốc ', 'tù tì ', 'tăm tắp ', 'tăng ', 'tăng chúng ', 'tăng cấp ', 'tăng giảm ', 'tăng thêm ', 'tăng thế ', 'tại ', 'tại lòng ', 'tại nơi ', 'tại sao ', 'tại tôi ', 'tại vì ', 'tại đâu ', 'tại đây ', 'tại đó ', 'tạo ', 'tạo cơ hội ', 'tạo nên ', 'tạo ra ', 'tạo ý ', 'tạo điều kiện ', 'tấm ', 'tấm bản ', 'tấm các ', 'tấn ', 'tấn tới ', 'tất cả ', 'tất cả bao nhiêu ', 'tất thảy ', 'tất tần tật ', 'tất tật ', 'tập trung ', 'tắp ', 'tắp lự ', 'tắp tắp ', 'tọt ', 'tỏ ra ', 'tỏ vẻ ', 'tốc tả ', 'tối ư ', 'tốt ', 'tốt bạn ', 'tốt bộ ', 'tốt hơn ', 'tốt mối ', 'tốt ngày ', 'tột ', 'tột cùng ', 'tớ ', 'tới ', 'tới gần ', 'tới mức ', 'tới nơi ', 'tới thì ', 'tức thì ', 'tức tốc ', 'từ ', 'từ căn ', 'từ giờ ', 'từ khi ', 'từ loại ', 'từ nay ', 'từ thế ', 'từ tính ', 'từ tại ', 'từ từ ', 'từ ái ', 'từ điều ', 'từ đó ', 'từ ấy ', 'từng ', 'từng cái ', 'từng giờ ', 'từng nhà ', 'từng phần ', 'từng thời gian ', 'từng đơn vị ', 'từng ấy ', 'tự ', 'tự cao ', 'tự khi ', 'tự lượng ', 'tự tính ', 'tự tạo ', 'tự vì ', 'tự ý ', 'tự ăn ', 'tựu trung ', 'veo ', 'veo veo ', 'việc ', 'việc gì ', 'vung thiên địa ', 'vung tàn tán ', 'vung tán tàn ', 'và ', 'vài ', 'vài ba ', 'vài người ', 'vài nhà ', 'vài nơi ', 'vài tên ', 'vài điều ', 'vào ', 'vào gặp ', 'vào khoảng ', 'vào lúc ', 'vào vùng ', 'vào đến ', 'vâng ', 'vâng chịu ', 'vâng dạ ', 'vâng vâng ', 'vâng ý ', 'vèo ', 'vèo vèo ', 'vì ', 'vì chưng ', 'vì rằng ', 'vì sao ', 'vì thế ', 'vì vậy ', 'ví bằng ', 'ví dù ', 'ví phỏng ', 'ví thử ', 'vô hình trung ', 'vô kể ', 'vô luận ', 'vô vàn ', 'vùng ', 'vùng lên ', 'vùng nước ', 'văng tê ', 'vượt ', 'vượt khỏi ', 'vượt quá ', 'vạn nhất ', 'vả chăng ', 'vả lại ', 'vấn đề ', 'vấn đề quan trọng ', 'vẫn ', 'vẫn thế ', 'vậy ', 'vậy là ', 'vậy mà ', 'vậy nên ', 'vậy ra ', 'vậy thì ', 'vậy ư ', 'về ', 'về không ', 'về nước ', 'về phần ', 'về sau ', 'về tay ', 'vị trí ', 'vị tất ', 'vốn dĩ ', 'với ', 'với lại ', 'với nhau ', 'vở ', 'vụt ', 'vừa ', 'vừa khi ', 'vừa lúc ', 'vừa mới ', 'vừa qua ', 'vừa rồi ', 'vừa vừa ', 'xa ', 'xa cách ', 'xa gần ', 'xa nhà ', 'xa tanh ', 'xa tắp ', 'xa xa ', 'xa xả ', 'xem ', 'xem lại ', 'xem ra ', 'xem số ', 'xin ', 'xin gặp ', 'xin vâng ', 'xiết bao ', 'xon xón ', 'xoành xoạch ', 'xoét ', 'xoẳn ', 'xoẹt ', 'xuất hiện ', 'xuất kì bất ý ', 'xuất kỳ bất ý ', 'xuể ', 'xuống ', 'xăm xúi ', 'xăm xăm ', 'xăm xắm ', 'xảy ra ', 'xềnh xệch ', 'xệp ', 'xử lý ', 'yêu cầu ', 'à ', 'à này ', 'à ơi ', 'ào ', 'ào vào ', 'ào ào ', 'á ', 'á à ', 'ái ', 'ái chà ', 'ái dà ', 'áng ', 'áng như ', 'âu là ', 'ít ', 'ít biết ', 'ít có ', 'ít hơn ', 'ít khi ', 'ít lâu ', 'ít nhiều ', 'ít nhất ', 'ít nữa ', 'ít quá ', 'ít ra ', 'ít thôi ', 'ít thấy ', 'ô hay ', 'ô hô ', 'ô kê ', 'ô kìa ', 'ôi chao ', 'ôi thôi ', 'ông ', 'ông nhỏ ', 'ông tạo ', 'ông từ ', 'ông ấy ', 'ông ổng ', 'úi ', 'úi chà ', 'úi dào ', 'ý ', 'ý chừng ', 'ý da ', 'ý hoặc ', 'ăn ', 'ăn chung ', 'ăn chắc ', 'ăn chịu ', 'ăn cuộc ', 'ăn hết ', 'ăn hỏi ', 'ăn làm ', 'ăn người ', 'ăn ngồi ', 'ăn quá ', 'ăn riêng ', 'ăn sáng ', 'ăn tay ', 'ăn trên ', 'ăn về ', 'đang ', 'đang tay ', 'đang thì ', 'điều ', 'điều gì ', 'điều kiện ', 'điểm ', 'điểm chính ', 'điểm gặp ', 'điểm đầu tiên ', 'đành đạch ', 'đáng ', 'đáng kể ', 'đáng lí ', 'đáng lý ', 'đáng lẽ ', 'đáng số ', 'đánh giá ', 'đánh đùng ', 'đáo để ', 'đâu ', 'đâu có ', 'đâu cũng ', 'đâu như ', 'đâu nào ', 'đâu phải ', 'đâu đâu ', 'đâu đây ', 'đâu đó ', 'đây ', 'đây này ', 'đây rồi ', 'đây đó ', 'đã ', 'đã hay ', 'đã không ', 'đã là ', 'đã lâu ', 'đã thế ', 'đã vậy ', 'đã đủ ', 'đó ', 'đó đây ', 'đúng ', 'đúng ngày ', 'đúng ra ', 'đúng tuổi ', 'đúng với ', 'đơn vị ', 'đưa ', 'đưa cho ', 'đưa chuyện ', 'đưa em ', 'đưa ra ', 'đưa tay ', 'đưa tin ', 'đưa tới ', 'đưa vào ', 'đưa về ', 'đưa xuống ', 'đưa đến ', 'được ', 'được cái ', 'được lời ', 'được nước ', 'được tin ', 'đại loại ', 'đại nhân ', 'đại phàm ', 'đại để ', 'đạt ', 'đảm bảo ', 'đầu tiên ', 'đầy ', 'đầy năm ', 'đầy phè ', 'đầy tuổi ', 'đặc biệt ', 'đặt ', 'đặt làm ', 'đặt mình ', 'đặt mức ', 'đặt ra ', 'đặt trước ', 'đặt để ', 'đến ', 'đến bao giờ ', 'đến cùng ', 'đến cùng cực ', 'đến cả ', 'đến giờ ', 'đến gần ', 'đến hay ', 'đến khi ', 'đến lúc ', 'đến lời ', 'đến nay ', 'đến ngày ', 'đến nơi ', 'đến nỗi ', 'đến thì ', 'đến thế ', 'đến tuổi ', 'đến xem ', 'đến điều ', 'đến đâu ', 'đều ', 'đều bước ', 'đều nhau ', 'đều đều ', 'để ', 'để cho ', 'để giống ', 'để không ', 'để lòng ', 'để lại ', 'để mà ', 'để phần ', 'để được ', 'để đến nỗi ', 'đối với ', 'đồng thời ', 'đủ ', 'đủ dùng ', 'đủ nơi ', 'đủ số ', 'đủ điều ', 'đủ điểm ', 'ơ ', 'ơ hay ', 'ơ kìa ', 'ơi ', 'ơi là ', 'ư ', 'ạ ', 'ạ ơi ', 'ấy ', 'ấy là ', 'ầu ơ ', 'ắt ', 'ắt hẳn ', 'ắt là ', 'ắt phải ', 'ắt thật ', 'ối dào ', 'ối giời ', 'ối giời ơi ', 'ồ ', 'ồ ồ ', 'ổng ', 'ớ ', 'ớ này ', 'ờ ', 'ờ ờ ', 'ở ', 'ở lại ', 'ở như ', 'ở nhờ ', 'ở năm ', 'ở trên ', 'ở vào ', 'ở đây ', 'ở đó ', 'ở được ', 'ủa ', 'ứ hự ', 'ứ ừ ', 'ừ ', 'ừ nhé ', 'ừ thì ', 'ừ ào ', 'ừ ừ ', 'ử']}\n"
          ]
        }
      ],
      "source": [
        "param_grid = {\n",
        "    'bow__ngram_range': [(1, 1), (1, 3), (1, 5)],\n",
        "    'bow__stop_words': [STOPWORDS, None],\n",
        "    'bow__max_df': [0.5, 0.75, 1.0],\n",
        "    'bow__min_df': [2, 3, 4]\n",
        "}\n",
        "\n",
        "# Define the pipeline\n",
        "pipeline = Pipeline([\n",
        "    ('bow', CountVectorizer()),\n",
        "    ('ovr', OneVsRestClassifier(LogisticRegression(random_state = 42)))\n",
        "])\n",
        "\n",
        "# Initialize the grid search\n",
        "grid_search = GridSearchCV(pipeline, param_grid, cv=5)\n",
        "\n",
        "# Fit the grid search to the data\n",
        "grid_search.fit(X_train, y_train)\n",
        "\n",
        "# Get the best parameters\n",
        "best_params = grid_search.best_params_\n",
        "\n",
        "# Print the best parameters\n",
        "print(best_params)"
      ]
    },
    {
      "cell_type": "code",
      "execution_count": null,
      "metadata": {
        "id": "Gz0IRfwt2NB1"
      },
      "outputs": [],
      "source": [
        "bow = CountVectorizer(ngram_range=(1, 3), tokenizer=word_tokenize, stop_words=STOPWORDS,max_df=0.75, min_df=2)\n",
        "X_train_bow = bow.fit_transform(X_train)\n",
        "X_test_bow = bow.transform(X_test)\n",
        "\n",
        "tfidf = TfidfVectorizer(ngram_range=(1, 1), tokenizer=word_tokenize, stop_words=STOPWORDS,max_df=0.75, min_df=4, smooth_idf=True)\n",
        "X_train_tfidf = tfidf.fit_transform(X_train)\n",
        "X_test_tfidf = tfidf.transform(X_test)"
      ]
    },
    {
      "cell_type": "code",
      "execution_count": null,
      "metadata": {
        "colab": {
          "base_uri": "https://localhost:8080/"
        },
        "id": "AwHsduhwlotm",
        "outputId": "eb2d1cab-f2e5-4d5f-e37e-63c50469a890"
      },
      "outputs": [
        {
          "data": {
            "text/plain": [
              "(12240, 40385)"
            ]
          },
          "execution_count": 7,
          "metadata": {},
          "output_type": "execute_result"
        }
      ],
      "source": [
        "X_train_bow.shape"
      ]
    },
    {
      "cell_type": "code",
      "execution_count": null,
      "metadata": {
        "colab": {
          "base_uri": "https://localhost:8080/"
        },
        "id": "HUR9yVJwm7OA",
        "outputId": "cc01898c-dd9a-4ddf-b306-9666370f389d"
      },
      "outputs": [
        {
          "data": {
            "text/plain": [
              "<12240x2724 sparse matrix of type '<class 'numpy.float64'>'\n",
              "\twith 190383 stored elements in Compressed Sparse Row format>"
            ]
          },
          "execution_count": 9,
          "metadata": {},
          "output_type": "execute_result"
        }
      ],
      "source": [
        "X_train_tfidf"
      ]
    },
    {
      "cell_type": "code",
      "execution_count": null,
      "metadata": {
        "id": "jgCXWMoh4Ton"
      },
      "outputs": [],
      "source": [
        "rdrsegmenter = VnCoreNLP(\"/content/drive/MyDrive/transformers/vncorenlp/VnCoreNLP-1.1.1.jar\", annotators=\"wseg\", max_heap_size='-Xmx500m')\n",
        "\n",
        "X_train_tokenized = [rdrsegmenter.tokenize(corpus)[0] for corpus in X_train.values]\n",
        "X_test_tokenized = [rdrsegmenter.tokenize(corpus)[0] for corpus in X_test.values]\n",
        "vs = 150 # number of dimensions that our words are going to be embedded in\n",
        "context_size = 5 # context window\n",
        "min_word = 10 # minimal number of occurence to be included in the embedded corpus\n",
        "\n",
        "skipgram = word2vec.Word2Vec(X_train_tokenized, vector_size = vs, \\\n",
        "                            window=context_size, min_count=min_word, \\\n",
        "                            epochs=50, seed=42, sg = 1)\n",
        "\n",
        "vs_cbow = 150 # number of dimensions that our words are going to be embedded in\n",
        "context_size_cbow = 5 # context window\n",
        "\n",
        "cbow = word2vec.Word2Vec(X_train_tokenized, vector_size = vs_cbow, \\\n",
        "                            window=context_size_cbow, min_count=min_word, \\\n",
        "                            epochs=50, seed=42, sg = 0)\n",
        "\n",
        "# Get words and indexes from the word2vec model\n"
      ]
    },
    {
      "cell_type": "code",
      "execution_count": null,
      "metadata": {
        "id": "H4k4btqH_XKR"
      },
      "outputs": [],
      "source": [
        "word_vec_unpack = [(word, idx) for word, idx in \\\n",
        "                   skipgram.wv.key_to_index.items()]\n",
        "tokens, indexes = zip(*word_vec_unpack)\n",
        "word_vec_df = pd.DataFrame(skipgram.wv.vectors[indexes, :], index=tokens)\n",
        "X_train_skipgram = np.array([word_vec_df.loc[list(set(doc).intersection(set(word_vec_df.index)))].mean(axis=0) for doc in X_train_tokenized])\n",
        "X_test_skipgram = np.array([word_vec_df.loc[list(set(doc).intersection(set(word_vec_df.index)))].mean(axis=0) for doc in X_test_tokenized])\n",
        "\n",
        "\n",
        "word_vec_unpack = [(word, idx) for word, idx in \\\n",
        "                   cbow.wv.key_to_index.items()]\n",
        "tokens, indexes = zip(*word_vec_unpack)\n",
        "word_vec_df = pd.DataFrame(cbow.wv.vectors[indexes, :], index=tokens)\n",
        "X_train_cbow = np.array([word_vec_df.loc[list(set(doc).intersection(set(word_vec_df.index)))].mean(axis=0) for doc in X_train_tokenized])\n",
        "X_test_cbow = np.array([word_vec_df.loc[list(set(doc).intersection(set(word_vec_df.index)))].mean(axis=0) for doc in X_test_tokenized])\n"
      ]
    },
    {
      "cell_type": "code",
      "execution_count": null,
      "metadata": {
        "id": "I7H97IKw-irl"
      },
      "outputs": [],
      "source": [
        "X_train_skipgram = pd.DataFrame(X_train_skipgram).fillna(0)\n",
        "X_test_skipgram = pd.DataFrame(X_test_skipgram).fillna(0)\n",
        "X_train_cbow = pd.DataFrame(X_train_cbow).fillna(0)\n",
        "X_test_cbow = pd.DataFrame(X_test_cbow).fillna(0)"
      ]
    },
    {
      "cell_type": "code",
      "execution_count": null,
      "metadata": {
        "id": "9aV3x0fn6RoP"
      },
      "outputs": [],
      "source": [
        "lr_model = LogisticRegression()\n",
        "xgb_model = xgb.XGBClassifier()\n",
        "nb_model = MultinomialNB()\n",
        "sgd = SGDClassifier(loss='hinge', penalty='l2',\n",
        "  alpha=1e-3, random_state=42,\n",
        "  max_iter=5, tol=None)\n",
        "\n",
        "\n",
        "models_list = [(\"Logistic Regression\", lr_model), (\"XGBoost\", xgb_model), (\"Naive Bayes\", nb_model), (\"SVM\", sgd)]\n"
      ]
    },
    {
      "cell_type": "markdown",
      "metadata": {
        "id": "7RAdWyIHZcPn"
      },
      "source": [
        "# 1. Evaluate Bow models\n"
      ]
    },
    {
      "cell_type": "code",
      "execution_count": null,
      "metadata": {
        "colab": {
          "base_uri": "https://localhost:8080/"
        },
        "id": "J9OSOQZU99ga",
        "outputId": "28d4ec45-aac6-4936-f003-b573ee3894a9"
      },
      "outputs": [
        {
          "name": "stdout",
          "output_type": "stream",
          "text": [
            "evaluating Logistic Regression\n",
            "Classification report from One Vs Rest model\n",
            "              precision    recall  f1-score   support\n",
            "\n",
            "           0       0.92      0.95      0.93      2721\n",
            "           1       0.97      0.91      0.94       581\n",
            "           2       0.92      0.78      0.84       518\n",
            "           3       0.93      0.89      0.91      1366\n",
            "           4       0.96      0.83      0.89       509\n",
            "           5       0.87      0.77      0.81       309\n",
            "\n",
            "   micro avg       0.93      0.90      0.91      6004\n",
            "   macro avg       0.93      0.86      0.89      6004\n",
            "weighted avg       0.93      0.90      0.91      6004\n",
            " samples avg       0.91      0.90      0.89      6004\n",
            "\n",
            "Hamming Loss:  0.051\n",
            "Classification report from Ensemble model from classifier chain\n",
            "              precision    recall  f1-score   support\n",
            "\n",
            "           0       0.91      0.95      0.93      2721\n",
            "           1       0.97      0.91      0.94       581\n",
            "           2       0.92      0.79      0.85       518\n",
            "           3       0.93      0.90      0.91      1366\n",
            "           4       0.96      0.83      0.89       509\n",
            "           5       0.87      0.77      0.82       309\n",
            "\n",
            "   micro avg       0.92      0.90      0.91      6004\n",
            "   macro avg       0.93      0.86      0.89      6004\n",
            "weighted avg       0.92      0.90      0.91      6004\n",
            " samples avg       0.91      0.90      0.90      6004\n",
            "\n",
            "Hamming Loss:  0.051\n",
            "evaluating XGBoost\n",
            "Classification report from One Vs Rest model\n",
            "              precision    recall  f1-score   support\n",
            "\n",
            "           0       0.90      0.95      0.93      2721\n",
            "           1       0.95      0.93      0.94       581\n",
            "           2       0.89      0.82      0.85       518\n",
            "           3       0.92      0.93      0.92      1366\n",
            "           4       0.96      0.88      0.92       509\n",
            "           5       0.84      0.72      0.78       309\n",
            "\n",
            "   micro avg       0.91      0.91      0.91      6004\n",
            "   macro avg       0.91      0.87      0.89      6004\n",
            "weighted avg       0.91      0.91      0.91      6004\n",
            " samples avg       0.89      0.90      0.89      6004\n",
            "\n",
            "Hamming Loss:  0.052\n",
            "Classification report from Ensemble model from classifier chain\n",
            "              precision    recall  f1-score   support\n",
            "\n",
            "           0       0.90      0.96      0.93      2721\n",
            "           1       0.95      0.93      0.94       581\n",
            "           2       0.90      0.82      0.86       518\n",
            "           3       0.92      0.93      0.93      1366\n",
            "           4       0.96      0.88      0.92       509\n",
            "           5       0.86      0.71      0.78       309\n",
            "\n",
            "   micro avg       0.91      0.92      0.92      6004\n",
            "   macro avg       0.91      0.87      0.89      6004\n",
            "weighted avg       0.91      0.92      0.92      6004\n",
            " samples avg       0.91      0.91      0.90      6004\n",
            "\n",
            "Hamming Loss:  0.05\n",
            "evaluating Naive Bayes\n",
            "Classification report from One Vs Rest model\n",
            "              precision    recall  f1-score   support\n",
            "\n",
            "           0       0.88      0.95      0.91      2721\n",
            "           1       0.68      0.85      0.76       581\n",
            "           2       0.73      0.75      0.74       518\n",
            "           3       0.74      0.88      0.81      1366\n",
            "           4       0.87      0.76      0.81       509\n",
            "           5       0.86      0.48      0.62       309\n",
            "\n",
            "   micro avg       0.81      0.87      0.84      6004\n",
            "   macro avg       0.79      0.78      0.77      6004\n",
            "weighted avg       0.81      0.87      0.84      6004\n",
            " samples avg       0.81      0.87      0.82      6004\n",
            "\n",
            "Hamming Loss:  0.099\n",
            "Classification report from Ensemble model from classifier chain\n",
            "              precision    recall  f1-score   support\n",
            "\n",
            "           0       0.87      0.96      0.91      2721\n",
            "           1       0.68      0.85      0.76       581\n",
            "           2       0.74      0.75      0.74       518\n",
            "           3       0.74      0.88      0.81      1366\n",
            "           4       0.88      0.75      0.81       509\n",
            "           5       0.87      0.48      0.62       309\n",
            "\n",
            "   micro avg       0.81      0.87      0.84      6004\n",
            "   macro avg       0.80      0.78      0.78      6004\n",
            "weighted avg       0.81      0.87      0.84      6004\n",
            " samples avg       0.81      0.87      0.82      6004\n",
            "\n",
            "Hamming Loss:  0.099\n",
            "evaluating SVM\n",
            "Classification report from One Vs Rest model\n",
            "              precision    recall  f1-score   support\n",
            "\n",
            "           0       0.93      0.94      0.93      2721\n",
            "           1       0.97      0.91      0.94       581\n",
            "           2       0.92      0.76      0.83       518\n",
            "           3       0.92      0.93      0.92      1366\n",
            "           4       0.97      0.81      0.88       509\n",
            "           5       0.90      0.49      0.63       309\n",
            "\n",
            "   micro avg       0.93      0.88      0.91      6004\n",
            "   macro avg       0.93      0.81      0.86      6004\n",
            "weighted avg       0.93      0.88      0.90      6004\n",
            " samples avg       0.89      0.87      0.87      6004\n",
            "\n",
            "Hamming Loss:  0.054\n",
            "Classification report from Ensemble model from classifier chain\n",
            "              precision    recall  f1-score   support\n",
            "\n",
            "           0       0.89      0.96      0.92      2721\n",
            "           1       0.97      0.91      0.94       581\n",
            "           2       0.93      0.77      0.85       518\n",
            "           3       0.92      0.92      0.92      1366\n",
            "           4       0.96      0.83      0.89       509\n",
            "           5       0.90      0.52      0.66       309\n",
            "\n",
            "   micro avg       0.91      0.90      0.90      6004\n",
            "   macro avg       0.93      0.82      0.86      6004\n",
            "weighted avg       0.91      0.90      0.90      6004\n",
            " samples avg       0.90      0.89      0.88      6004\n",
            "\n",
            "Hamming Loss:  0.056\n"
          ]
        }
      ],
      "source": [
        "# bow evaluation\n",
        "\n",
        "\n",
        "score_dict = {}\n",
        "for name, model in models_list:\n",
        "  if name == \"SVM\":\n",
        "    predict_proba = 0\n",
        "  else:\n",
        "    predict_proba = 1\n",
        "  print(f\"evaluating {name}\")\n",
        "  score_dict[name] = evaluate_chain(model, X_train_bow, y_train, X_test_bow, y_test, predict_proba = predict_proba)\n"
      ]
    },
    {
      "cell_type": "markdown",
      "metadata": {
        "id": "2o-SGv4pZjn7"
      },
      "source": [
        "# 2. TFIDF evaluation\n"
      ]
    },
    {
      "cell_type": "code",
      "execution_count": null,
      "metadata": {
        "colab": {
          "base_uri": "https://localhost:8080/"
        },
        "id": "YDbFLB_nFoKG",
        "outputId": "bb393838-c34f-4ce8-d4af-12826965f2ca"
      },
      "outputs": [
        {
          "name": "stdout",
          "output_type": "stream",
          "text": [
            "evaluating Logistic Regression\n",
            "Classification report from One Vs Rest model\n",
            "              precision    recall  f1-score   support\n",
            "\n",
            "           0       0.90      0.97      0.93      2721\n",
            "           1       0.98      0.84      0.90       581\n",
            "           2       0.93      0.68      0.78       518\n",
            "           3       0.93      0.87      0.90      1366\n",
            "           4       0.97      0.74      0.84       509\n",
            "           5       0.91      0.47      0.62       309\n",
            "\n",
            "   micro avg       0.92      0.86      0.89      6004\n",
            "   macro avg       0.94      0.76      0.83      6004\n",
            "weighted avg       0.93      0.86      0.89      6004\n",
            " samples avg       0.89      0.86      0.86      6004\n",
            "\n",
            "Hamming Loss:  0.062\n",
            "Classification report from Ensemble model from classifier chain\n",
            "              precision    recall  f1-score   support\n",
            "\n",
            "           0       0.87      0.98      0.92      2721\n",
            "           1       0.97      0.84      0.90       581\n",
            "           2       0.92      0.68      0.78       518\n",
            "           3       0.93      0.87      0.90      1366\n",
            "           4       0.97      0.75      0.85       509\n",
            "           5       0.92      0.71      0.80       309\n",
            "\n",
            "   micro avg       0.91      0.88      0.89      6004\n",
            "   macro avg       0.93      0.80      0.86      6004\n",
            "weighted avg       0.91      0.88      0.89      6004\n",
            " samples avg       0.90      0.89      0.88      6004\n",
            "\n",
            "Hamming Loss:  0.062\n",
            "evaluating XGBoost\n",
            "Classification report from One Vs Rest model\n",
            "              precision    recall  f1-score   support\n",
            "\n",
            "           0       0.91      0.95      0.93      2721\n",
            "           1       0.95      0.93      0.94       581\n",
            "           2       0.89      0.80      0.84       518\n",
            "           3       0.92      0.93      0.93      1366\n",
            "           4       0.96      0.87      0.91       509\n",
            "           5       0.85      0.74      0.79       309\n",
            "\n",
            "   micro avg       0.91      0.92      0.91      6004\n",
            "   macro avg       0.91      0.87      0.89      6004\n",
            "weighted avg       0.91      0.92      0.91      6004\n",
            " samples avg       0.90      0.91      0.89      6004\n",
            "\n",
            "Hamming Loss:  0.05\n",
            "Classification report from Ensemble model from classifier chain\n",
            "              precision    recall  f1-score   support\n",
            "\n",
            "           0       0.90      0.96      0.93      2721\n",
            "           1       0.94      0.93      0.94       581\n",
            "           2       0.90      0.81      0.85       518\n",
            "           3       0.92      0.93      0.92      1366\n",
            "           4       0.96      0.87      0.91       509\n",
            "           5       0.85      0.75      0.80       309\n",
            "\n",
            "   micro avg       0.91      0.92      0.91      6004\n",
            "   macro avg       0.91      0.88      0.89      6004\n",
            "weighted avg       0.91      0.92      0.91      6004\n",
            " samples avg       0.91      0.92      0.90      6004\n",
            "\n",
            "Hamming Loss:  0.051\n",
            "evaluating Naive Bayes\n",
            "Classification report from One Vs Rest model\n",
            "              precision    recall  f1-score   support\n",
            "\n",
            "           0       0.84      0.99      0.91      2721\n",
            "           1       0.94      0.60      0.73       581\n",
            "           2       0.95      0.41      0.58       518\n",
            "           3       0.77      0.75      0.76      1366\n",
            "           4       0.99      0.29      0.45       509\n",
            "           5       0.93      0.30      0.45       309\n",
            "\n",
            "   micro avg       0.84      0.75      0.79      6004\n",
            "   macro avg       0.90      0.56      0.64      6004\n",
            "weighted avg       0.86      0.75      0.76      6004\n",
            " samples avg       0.83      0.77      0.77      6004\n",
            "\n",
            "Hamming Loss:  0.116\n",
            "Classification report from Ensemble model from classifier chain\n",
            "              precision    recall  f1-score   support\n",
            "\n",
            "           0       0.84      0.99      0.91      2721\n",
            "           1       0.94      0.62      0.75       581\n",
            "           2       0.95      0.45      0.61       518\n",
            "           3       0.75      0.76      0.76      1366\n",
            "           4       0.99      0.31      0.47       509\n",
            "           5       0.94      0.35      0.51       309\n",
            "\n",
            "   micro avg       0.83      0.77      0.80      6004\n",
            "   macro avg       0.90      0.58      0.67      6004\n",
            "weighted avg       0.86      0.77      0.78      6004\n",
            " samples avg       0.83      0.79      0.78      6004\n",
            "\n",
            "Hamming Loss:  0.113\n",
            "evaluating SVM\n",
            "Classification report from One Vs Rest model\n",
            "              precision    recall  f1-score   support\n",
            "\n",
            "           0       0.82      1.00      0.90      2721\n",
            "           1       0.98      0.78      0.87       581\n",
            "           2       0.97      0.49      0.65       518\n",
            "           3       0.93      0.85      0.89      1366\n",
            "           4       0.97      0.59      0.73       509\n",
            "           5       0.94      0.15      0.25       309\n",
            "\n",
            "   micro avg       0.88      0.82      0.85      6004\n",
            "   macro avg       0.94      0.64      0.72      6004\n",
            "weighted avg       0.89      0.82      0.83      6004\n",
            " samples avg       0.85      0.82      0.81      6004\n",
            "\n",
            "Hamming Loss:  0.087\n",
            "Classification report from Ensemble model from classifier chain\n",
            "              precision    recall  f1-score   support\n",
            "\n",
            "           0       0.81      1.00      0.90      2721\n",
            "           1       0.98      0.79      0.88       581\n",
            "           2       0.97      0.49      0.65       518\n",
            "           3       0.93      0.86      0.89      1366\n",
            "           4       0.97      0.60      0.74       509\n",
            "           5       0.92      0.16      0.27       309\n",
            "\n",
            "   micro avg       0.87      0.82      0.85      6004\n",
            "   macro avg       0.93      0.65      0.72      6004\n",
            "weighted avg       0.89      0.82      0.83      6004\n",
            " samples avg       0.85      0.82      0.82      6004\n",
            "\n",
            "Hamming Loss:  0.088\n"
          ]
        }
      ],
      "source": [
        "# tfidf evaluation\n",
        "score_dict = {}\n",
        "for name, model in models_list:\n",
        "  if name == \"SVM\":\n",
        "    predict_proba = 0\n",
        "  else:\n",
        "    predict_proba = 1\n",
        "  print(f\"evaluating {name}\")\n",
        "  score_dict[name] = evaluate_chain(model, X_train_tfidf, y_train, X_test_tfidf, y_test, predict_proba = predict_proba)"
      ]
    },
    {
      "cell_type": "markdown",
      "metadata": {
        "id": "8Op49o__Znh_"
      },
      "source": [
        "# 3. Word2vec (Skipgram) evaluation"
      ]
    },
    {
      "cell_type": "code",
      "execution_count": null,
      "metadata": {
        "colab": {
          "base_uri": "https://localhost:8080/"
        },
        "id": "XGSg4Gn0MgrV",
        "outputId": "8fa19cae-fe20-497e-9e9e-d6be604af65e"
      },
      "outputs": [
        {
          "name": "stdout",
          "output_type": "stream",
          "text": [
            "evaluating Logistic Regression\n",
            "Classification report from One Vs Rest model\n",
            "              precision    recall  f1-score   support\n",
            "\n",
            "           0       0.88      0.96      0.92      2721\n",
            "           1       0.89      0.73      0.81       581\n",
            "           2       0.83      0.56      0.67       518\n",
            "           3       0.86      0.79      0.82      1366\n",
            "           4       0.85      0.55      0.67       509\n",
            "           5       0.86      0.68      0.76       309\n",
            "\n",
            "   micro avg       0.87      0.81      0.84      6004\n",
            "   macro avg       0.86      0.71      0.77      6004\n",
            "weighted avg       0.87      0.81      0.84      6004\n",
            " samples avg       0.87      0.84      0.83      6004\n",
            "\n",
            "Hamming Loss:  0.089\n",
            "Classification report from Ensemble model from classifier chain\n",
            "              precision    recall  f1-score   support\n",
            "\n",
            "           0       0.89      0.96      0.92      2721\n",
            "           1       0.90      0.73      0.81       581\n",
            "           2       0.84      0.58      0.68       518\n",
            "           3       0.87      0.79      0.83      1366\n",
            "           4       0.85      0.56      0.68       509\n",
            "           5       0.87      0.65      0.74       309\n",
            "\n",
            "   micro avg       0.88      0.82      0.85      6004\n",
            "   macro avg       0.87      0.71      0.78      6004\n",
            "weighted avg       0.88      0.82      0.84      6004\n",
            " samples avg       0.88      0.84      0.84      6004\n",
            "\n",
            "Hamming Loss:  0.087\n",
            "evaluating XGBoost\n",
            "Classification report from One Vs Rest model\n",
            "              precision    recall  f1-score   support\n",
            "\n",
            "           0       0.90      0.96      0.93      2721\n",
            "           1       0.90      0.79      0.84       581\n",
            "           2       0.87      0.69      0.77       518\n",
            "           3       0.86      0.84      0.85      1366\n",
            "           4       0.87      0.68      0.76       509\n",
            "           5       0.92      0.69      0.79       309\n",
            "\n",
            "   micro avg       0.89      0.86      0.87      6004\n",
            "   macro avg       0.89      0.78      0.82      6004\n",
            "weighted avg       0.89      0.86      0.87      6004\n",
            " samples avg       0.88      0.87      0.86      6004\n",
            "\n",
            "Hamming Loss:  0.074\n",
            "Classification report from Ensemble model from classifier chain\n",
            "              precision    recall  f1-score   support\n",
            "\n",
            "           0       0.89      0.98      0.93      2721\n",
            "           1       0.91      0.78      0.84       581\n",
            "           2       0.87      0.70      0.78       518\n",
            "           3       0.87      0.86      0.87      1366\n",
            "           4       0.90      0.69      0.78       509\n",
            "           5       0.92      0.71      0.80       309\n",
            "\n",
            "   micro avg       0.89      0.87      0.88      6004\n",
            "   macro avg       0.89      0.79      0.83      6004\n",
            "weighted avg       0.89      0.87      0.88      6004\n",
            " samples avg       0.89      0.88      0.87      6004\n",
            "\n",
            "Hamming Loss:  0.07\n",
            "evaluating SVM\n",
            "Classification report from One Vs Rest model\n",
            "              precision    recall  f1-score   support\n",
            "\n",
            "           0       0.86      0.98      0.92      2721\n",
            "           1       0.91      0.68      0.78       581\n",
            "           2       0.91      0.41      0.57       518\n",
            "           3       0.85      0.82      0.84      1366\n",
            "           4       0.90      0.50      0.64       509\n",
            "           5       0.91      0.62      0.74       309\n",
            "\n",
            "   micro avg       0.87      0.81      0.84      6004\n",
            "   macro avg       0.89      0.67      0.75      6004\n",
            "weighted avg       0.87      0.81      0.82      6004\n",
            " samples avg       0.87      0.83      0.83      6004\n",
            "\n",
            "Hamming Loss:  0.093\n",
            "Classification report from Ensemble model from classifier chain\n",
            "              precision    recall  f1-score   support\n",
            "\n",
            "           0       0.87      0.99      0.92      2721\n",
            "           1       0.90      0.69      0.78       581\n",
            "           2       0.90      0.44      0.59       518\n",
            "           3       0.84      0.82      0.83      1366\n",
            "           4       0.88      0.52      0.66       509\n",
            "           5       0.91      0.62      0.73       309\n",
            "\n",
            "   micro avg       0.87      0.82      0.84      6004\n",
            "   macro avg       0.88      0.68      0.75      6004\n",
            "weighted avg       0.87      0.82      0.83      6004\n",
            " samples avg       0.88      0.84      0.83      6004\n",
            "\n",
            "Hamming Loss:  0.091\n"
          ]
        }
      ],
      "source": [
        "# word2vec (skipgram) evaluation\n",
        "models_list = [(\"Logistic Regression\", lr_model), (\"XGBoost\", xgb_model), (\"SVM\", sgd)]\n",
        "score_dict = {}\n",
        "for name, model in models_list:\n",
        "  if name == \"SVM\":\n",
        "    predict_proba = 0\n",
        "  else:\n",
        "    predict_proba = 1\n",
        "  print(f\"evaluating {name}\")\n",
        "  score_dict[name] = evaluate_chain(model, X_train_skipgram, y_train, X_test_skipgram, y_test, predict_proba = predict_proba)"
      ]
    },
    {
      "cell_type": "markdown",
      "metadata": {
        "id": "3NdguAFWZt0I"
      },
      "source": [
        "# 4. Word2vec cbow evalutaion"
      ]
    },
    {
      "cell_type": "code",
      "execution_count": null,
      "metadata": {
        "colab": {
          "base_uri": "https://localhost:8080/"
        },
        "id": "pT29UI0lRKev",
        "outputId": "4421264c-fddc-46e6-ce65-df2b557cbf04"
      },
      "outputs": [
        {
          "name": "stdout",
          "output_type": "stream",
          "text": [
            "evaluating Logistic Regression\n",
            "Classification report from One Vs Rest model\n",
            "              precision    recall  f1-score   support\n",
            "\n",
            "           0       0.89      0.95      0.92      2721\n",
            "           1       0.92      0.82      0.87       581\n",
            "           2       0.84      0.66      0.74       518\n",
            "           3       0.89      0.85      0.87      1366\n",
            "           4       0.90      0.67      0.77       509\n",
            "           5       0.85      0.75      0.79       309\n",
            "\n",
            "   micro avg       0.89      0.86      0.87      6004\n",
            "   macro avg       0.88      0.78      0.83      6004\n",
            "weighted avg       0.89      0.86      0.87      6004\n",
            " samples avg       0.89      0.87      0.86      6004\n",
            "\n",
            "Hamming Loss:  0.074\n",
            "Classification report from Ensemble model from classifier chain\n",
            "              precision    recall  f1-score   support\n",
            "\n",
            "           0       0.90      0.96      0.93      2721\n",
            "           1       0.93      0.82      0.87       581\n",
            "           2       0.84      0.67      0.74       518\n",
            "           3       0.89      0.84      0.87      1366\n",
            "           4       0.89      0.69      0.78       509\n",
            "           5       0.87      0.72      0.79       309\n",
            "\n",
            "   micro avg       0.89      0.86      0.88      6004\n",
            "   macro avg       0.89      0.78      0.83      6004\n",
            "weighted avg       0.89      0.86      0.87      6004\n",
            " samples avg       0.89      0.87      0.86      6004\n",
            "\n",
            "Hamming Loss:  0.072\n",
            "evaluating XGBoost\n",
            "Classification report from One Vs Rest model\n",
            "              precision    recall  f1-score   support\n",
            "\n",
            "           0       0.90      0.96      0.93      2721\n",
            "           1       0.92      0.80      0.86       581\n",
            "           2       0.87      0.69      0.77       518\n",
            "           3       0.88      0.86      0.87      1366\n",
            "           4       0.88      0.67      0.76       509\n",
            "           5       0.91      0.73      0.81       309\n",
            "\n",
            "   micro avg       0.90      0.86      0.88      6004\n",
            "   macro avg       0.90      0.79      0.83      6004\n",
            "weighted avg       0.90      0.86      0.88      6004\n",
            " samples avg       0.89      0.87      0.87      6004\n",
            "\n",
            "Hamming Loss:  0.07\n",
            "Classification report from Ensemble model from classifier chain\n",
            "              precision    recall  f1-score   support\n",
            "\n",
            "           0       0.90      0.97      0.93      2721\n",
            "           1       0.93      0.81      0.87       581\n",
            "           2       0.89      0.73      0.80       518\n",
            "           3       0.89      0.87      0.88      1366\n",
            "           4       0.91      0.68      0.78       509\n",
            "           5       0.92      0.73      0.82       309\n",
            "\n",
            "   micro avg       0.90      0.87      0.89      6004\n",
            "   macro avg       0.91      0.80      0.85      6004\n",
            "weighted avg       0.90      0.87      0.89      6004\n",
            " samples avg       0.90      0.88      0.88      6004\n",
            "\n",
            "Hamming Loss:  0.065\n",
            "evaluating SVM\n",
            "Classification report from One Vs Rest model\n",
            "              precision    recall  f1-score   support\n",
            "\n",
            "           0       0.91      0.93      0.92      2721\n",
            "           1       0.94      0.79      0.86       581\n",
            "           2       0.81      0.63      0.71       518\n",
            "           3       0.88      0.87      0.87      1366\n",
            "           4       0.85      0.68      0.76       509\n",
            "           5       0.84      0.77      0.81       309\n",
            "\n",
            "   micro avg       0.89      0.85      0.87      6004\n",
            "   macro avg       0.87      0.78      0.82      6004\n",
            "weighted avg       0.89      0.85      0.86      6004\n",
            " samples avg       0.89      0.87      0.85      6004\n",
            "\n",
            "Hamming Loss:  0.076\n",
            "Classification report from Ensemble model from classifier chain\n",
            "              precision    recall  f1-score   support\n",
            "\n",
            "           0       0.90      0.95      0.93      2721\n",
            "           1       0.93      0.80      0.86       581\n",
            "           2       0.84      0.63      0.72       518\n",
            "           3       0.89      0.87      0.88      1366\n",
            "           4       0.88      0.66      0.76       509\n",
            "           5       0.86      0.76      0.81       309\n",
            "\n",
            "   micro avg       0.89      0.85      0.87      6004\n",
            "   macro avg       0.88      0.78      0.82      6004\n",
            "weighted avg       0.89      0.85      0.87      6004\n",
            " samples avg       0.89      0.87      0.86      6004\n",
            "\n",
            "Hamming Loss:  0.072\n"
          ]
        }
      ],
      "source": [
        "# word2vec (cbow) evaluation\n",
        "score_dict = {}\n",
        "for name, model in models_list:\n",
        "  if name == \"SVM\":\n",
        "    predict_proba = 0\n",
        "  else:\n",
        "    predict_proba = 1\n",
        "  print(f\"evaluating {name}\")\n",
        "  score_dict[name] = evaluate_chain(model, X_train_cbow, y_train, X_test_cbow, y_test, predict_proba = predict_proba)"
      ]
    },
    {
      "cell_type": "markdown",
      "metadata": {
        "id": "Y-sRjbonZzsH"
      },
      "source": [
        "# 4. Evaluate embedding from Phobert"
      ]
    },
    {
      "cell_type": "code",
      "execution_count": null,
      "metadata": {
        "id": "MkOd-cNjE73L"
      },
      "outputs": [],
      "source": [
        "\"\"\"import torch\n",
        "save_best_path =  \"/content/drive/MyDrive/THESIS DSEB62: Product review analysis/Baseline-model/Phobertv2\" + \"/best.pth\"\n",
        "model = torch.load(save_best_path)\n",
        "embedder = model.roberta\n",
        "\n",
        "import random\n",
        "from tqdm import tqdm_notebook\n",
        "device = 'cuda'\n",
        "phobert = embedder.to(device)\n",
        "with torch.no_grad():\n",
        "    phobert.eval()\n",
        "    train_embedded_mean = []\n",
        "    train_embedded_pooling = []\n",
        "    for step, batch in tqdm_notebook(enumerate(train_dataloader)):\n",
        "        b_input_ids = batch[0].to(device)\n",
        "        b_input_mask = batch[1].to(device)\n",
        "        b_labels = batch[2].to(device)\n",
        "        last_hidden_layer = phobert(b_input_ids,\n",
        "        token_type_ids=None,\n",
        "        attention_mask=b_input_mask)\n",
        "        embedded_value_mean = torch.mean(last_hidden_layer[0], dim=1)\n",
        "        embedded_value_pool = last_hidden_layer[0]\n",
        "        train_embedded_mean.append(embedded_value_mean)\n",
        "        train_embedded_pooling.append(embedded_value_pool)\"\"\""
      ]
    },
    {
      "cell_type": "code",
      "execution_count": null,
      "metadata": {
        "colab": {
          "base_uri": "https://localhost:8080/"
        },
        "id": "NLplNgLkj8zD",
        "outputId": "9cf80755-67e8-4e82-a665-1495f1dd4e39"
      },
      "outputs": [
        {
          "data": {
            "text/plain": [
              "(12240, 768)"
            ]
          },
          "execution_count": 19,
          "metadata": {},
          "output_type": "execute_result"
        }
      ],
      "source": [
        "phobert_test = pd.read_csv(\"/content/drive/MyDrive/Thesis: Topic Modelling/Code/Phobert result/phobert_test_feature.csv\").drop(\"Unnamed: 0\", axis = 1)\n",
        "phobert_train = pd.read_csv(\"/content/drive/MyDrive/Thesis: Topic Modelling/Code/Phobert result/phobert_train_feature.csv\").drop(\"Unnamed: 0\", axis = 1)\n",
        "phobert_train.shape"
      ]
    },
    {
      "cell_type": "code",
      "execution_count": null,
      "metadata": {
        "colab": {
          "base_uri": "https://localhost:8080/"
        },
        "id": "1p48N-683Kc-",
        "outputId": "722a06aa-5615-47f5-d9da-1d49ae432095"
      },
      "outputs": [
        {
          "name": "stdout",
          "output_type": "stream",
          "text": [
            "evaluating Logistic Regression\n",
            "Classification report from One Vs Rest model\n",
            "              precision    recall  f1-score   support\n",
            "\n",
            "           0       0.96      0.97      0.97      2721\n",
            "           1       0.98      0.98      0.98       581\n",
            "           2       0.94      0.93      0.94       518\n",
            "           3       0.94      0.97      0.96      1366\n",
            "           4       0.97      0.96      0.97       509\n",
            "           5       0.95      0.95      0.95       309\n",
            "\n",
            "   micro avg       0.96      0.97      0.96      6004\n",
            "   macro avg       0.96      0.96      0.96      6004\n",
            "weighted avg       0.96      0.97      0.96      6004\n",
            " samples avg       0.96      0.97      0.96      6004\n",
            "\n",
            "Hamming Loss:  0.022\n",
            "Classification report from Ensemble model from classifier chain\n",
            "              precision    recall  f1-score   support\n",
            "\n",
            "           0       0.96      0.97      0.97      2721\n",
            "           1       0.98      0.98      0.98       581\n",
            "           2       0.94      0.93      0.94       518\n",
            "           3       0.94      0.97      0.95      1366\n",
            "           4       0.97      0.96      0.97       509\n",
            "           5       0.95      0.95      0.95       309\n",
            "\n",
            "   micro avg       0.96      0.97      0.96      6004\n",
            "   macro avg       0.96      0.96      0.96      6004\n",
            "weighted avg       0.96      0.97      0.96      6004\n",
            " samples avg       0.96      0.97      0.96      6004\n",
            "\n",
            "Hamming Loss:  0.023\n",
            "evaluating XGBoost\n",
            "Classification report from One Vs Rest model\n",
            "              precision    recall  f1-score   support\n",
            "\n",
            "           0       0.96      0.97      0.96      2721\n",
            "           1       0.98      0.98      0.98       581\n",
            "           2       0.94      0.92      0.93       518\n",
            "           3       0.94      0.96      0.95      1366\n",
            "           4       0.97      0.97      0.97       509\n",
            "           5       0.96      0.94      0.95       309\n",
            "\n",
            "   micro avg       0.96      0.96      0.96      6004\n",
            "   macro avg       0.96      0.96      0.96      6004\n",
            "weighted avg       0.96      0.96      0.96      6004\n",
            " samples avg       0.96      0.96      0.95      6004\n",
            "\n",
            "Hamming Loss:  0.024\n",
            "Classification report from Ensemble model from classifier chain\n",
            "              precision    recall  f1-score   support\n",
            "\n",
            "           0       0.96      0.97      0.96      2721\n",
            "           1       0.98      0.98      0.98       581\n",
            "           2       0.94      0.92      0.93       518\n",
            "           3       0.94      0.96      0.95      1366\n",
            "           4       0.97      0.97      0.97       509\n",
            "           5       0.96      0.94      0.95       309\n",
            "\n",
            "   micro avg       0.96      0.96      0.96      6004\n",
            "   macro avg       0.96      0.96      0.96      6004\n",
            "weighted avg       0.96      0.96      0.96      6004\n",
            " samples avg       0.96      0.96      0.96      6004\n",
            "\n",
            "Hamming Loss:  0.024\n",
            "evaluating SVM\n",
            "Classification report from One Vs Rest model\n",
            "              precision    recall  f1-score   support\n",
            "\n",
            "           0       0.96      0.98      0.97      2721\n",
            "           1       0.98      0.98      0.98       581\n",
            "           2       0.95      0.92      0.93       518\n",
            "           3       0.94      0.97      0.95      1366\n",
            "           4       0.96      0.97      0.97       509\n",
            "           5       0.93      0.96      0.94       309\n",
            "\n",
            "   micro avg       0.95      0.97      0.96      6004\n",
            "   macro avg       0.95      0.96      0.96      6004\n",
            "weighted avg       0.95      0.97      0.96      6004\n",
            " samples avg       0.96      0.97      0.96      6004\n",
            "\n",
            "Hamming Loss:  0.024\n",
            "Classification report from Ensemble model from classifier chain\n",
            "              precision    recall  f1-score   support\n",
            "\n",
            "           0       0.96      0.97      0.97      2721\n",
            "           1       0.98      0.98      0.98       581\n",
            "           2       0.95      0.91      0.93       518\n",
            "           3       0.94      0.98      0.96      1366\n",
            "           4       0.96      0.97      0.97       509\n",
            "           5       0.94      0.96      0.95       309\n",
            "\n",
            "   micro avg       0.95      0.97      0.96      6004\n",
            "   macro avg       0.95      0.96      0.96      6004\n",
            "weighted avg       0.95      0.97      0.96      6004\n",
            " samples avg       0.96      0.97      0.96      6004\n",
            "\n",
            "Hamming Loss:  0.023\n"
          ]
        }
      ],
      "source": [
        "# phobert embedding evaluation\n",
        "score_dict = {}\n",
        "for name, model in models_list:\n",
        "  if name == \"SVM\":\n",
        "    predict_proba = 0\n",
        "  else:\n",
        "    predict_proba = 1\n",
        "  print(f\"evaluating {name}\")\n",
        "  score_dict[name] = evaluate_chain(model, phobert_train, y_train, phobert_test, y_test, predict_proba = predict_proba)"
      ]
    },
    {
      "cell_type": "code",
      "execution_count": null,
      "metadata": {
        "id": "v7LITL_BFi4u"
      },
      "outputs": [],
      "source": [
        "lr = LogisticRegression()\n",
        "lr_trained = train_ovr(lr, phobert_train, y_train)"
      ]
    },
    {
      "cell_type": "code",
      "execution_count": null,
      "metadata": {
        "id": "C8Ku3W3lGBGL"
      },
      "outputs": [],
      "source": [
        "best_prediction = lr_trained.predict(phobert_test)\n",
        "best_proba = lr_trained.predict_proba(phobert_test)"
      ]
    },
    {
      "cell_type": "code",
      "execution_count": null,
      "metadata": {
        "id": "7S0ysu02GUG6"
      },
      "outputs": [],
      "source": [
        "best_result_df = classification_report(y_test, best_prediction, target_names = y_test.columns, output_dict = True)\n",
        "pd.DataFrame(best_result_df).T.to_excel(\"best_result_df.xlsx\")"
      ]
    },
    {
      "cell_type": "code",
      "execution_count": null,
      "metadata": {
        "colab": {
          "base_uri": "https://localhost:8080/"
        },
        "id": "oHa4nmMmNqO8",
        "outputId": "6fd0d7f2-8c6c-4530-a936-a102ff3c0bfc"
      },
      "outputs": [
        {
          "name": "stdout",
          "output_type": "stream",
          "text": [
            "Classification report from \n",
            "              precision    recall  f1-score   support\n",
            "\n",
            "           0       0.96      0.97      0.97      2721\n",
            "           1       0.98      0.98      0.98       581\n",
            "           2       0.94      0.93      0.94       518\n",
            "           3       0.94      0.97      0.96      1366\n",
            "           4       0.97      0.96      0.97       509\n",
            "           5       0.95      0.95      0.95       309\n",
            "\n",
            "   micro avg       0.96      0.97      0.96      6004\n",
            "   macro avg       0.96      0.96      0.96      6004\n",
            "weighted avg       0.96      0.97      0.96      6004\n",
            " samples avg       0.96      0.97      0.96      6004\n",
            "\n",
            "Hamming Loss:  0.022\n",
            "classification report of Quality\n",
            "              precision    recall  f1-score   support\n",
            "\n",
            "           0       0.88      0.84      0.86       680\n",
            "           1       0.96      0.97      0.97      2721\n",
            "\n",
            "    accuracy                           0.95      3401\n",
            "   macro avg       0.92      0.91      0.91      3401\n",
            "weighted avg       0.94      0.95      0.95      3401\n",
            "\n",
            "classification report of Pack\n",
            "              precision    recall  f1-score   support\n",
            "\n",
            "           0       1.00      1.00      1.00      2820\n",
            "           1       0.98      0.98      0.98       581\n",
            "\n",
            "    accuracy                           0.99      3401\n",
            "   macro avg       0.99      0.99      0.99      3401\n",
            "weighted avg       0.99      0.99      0.99      3401\n",
            "\n",
            "classification report of Serve\n",
            "              precision    recall  f1-score   support\n",
            "\n",
            "           0       0.99      0.99      0.99      2883\n",
            "           1       0.94      0.93      0.94       518\n",
            "\n",
            "    accuracy                           0.98      3401\n",
            "   macro avg       0.97      0.96      0.96      3401\n",
            "weighted avg       0.98      0.98      0.98      3401\n",
            "\n",
            "classification report of Shipping\n",
            "              precision    recall  f1-score   support\n",
            "\n",
            "           0       0.98      0.96      0.97      2035\n",
            "           1       0.94      0.97      0.96      1366\n",
            "\n",
            "    accuracy                           0.96      3401\n",
            "   macro avg       0.96      0.97      0.96      3401\n",
            "weighted avg       0.96      0.96      0.96      3401\n",
            "\n",
            "classification report of Price\n",
            "              precision    recall  f1-score   support\n",
            "\n",
            "           0       0.99      1.00      0.99      2892\n",
            "           1       0.97      0.96      0.97       509\n",
            "\n",
            "    accuracy                           0.99      3401\n",
            "   macro avg       0.98      0.98      0.98      3401\n",
            "weighted avg       0.99      0.99      0.99      3401\n",
            "\n",
            "classification report of Other\n",
            "              precision    recall  f1-score   support\n",
            "\n",
            "           0       1.00      1.00      1.00      3092\n",
            "           1       0.95      0.95      0.95       309\n",
            "\n",
            "    accuracy                           0.99      3401\n",
            "   macro avg       0.98      0.98      0.98      3401\n",
            "weighted avg       0.99      0.99      0.99      3401\n",
            "\n"
          ]
        }
      ],
      "source": [
        "evaluate(y_test, best_prediction)"
      ]
    }
  ],
  "metadata": {
    "colab": {
      "provenance": []
    },
    "kernelspec": {
      "display_name": "Python 3",
      "name": "python3"
    },
    "language_info": {
      "name": "python"
    }
  },
  "nbformat": 4,
  "nbformat_minor": 0
}